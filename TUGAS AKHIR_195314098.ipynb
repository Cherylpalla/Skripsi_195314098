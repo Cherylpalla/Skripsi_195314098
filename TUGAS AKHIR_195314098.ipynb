{
 "cells": [
  {
   "cell_type": "markdown",
   "id": "95a763c1",
   "metadata": {},
   "source": [
    "#### Nama: Kurniawati Cricella Maria Dhiu Pala\n",
    "#### Nim: 195314098\n",
    "#### TUGAS AKHIR"
   ]
  },
  {
   "cell_type": "markdown",
   "id": "f6b2aca2",
   "metadata": {},
   "source": [
    "#### Import Library"
   ]
  },
  {
   "cell_type": "code",
   "execution_count": 1,
   "id": "a3b3d6ff",
   "metadata": {},
   "outputs": [],
   "source": [
    "import pandas as pd\n",
    "import numpy as np\n",
    "from sklearn.model_selection import train_test_split\n",
    "from sklearn.naive_bayes import GaussianNB\n",
    "from sklearn.naive_bayes import BernoulliNB\n",
    "from sklearn.metrics import classification_report\n",
    "from sklearn.model_selection import cross_val_score\n",
    "from sklearn.model_selection import KFold\n",
    "import matplotlib.pyplot as plt\n",
    "from sklearn.svm import SVC, LinearSVC\n",
    "from sklearn import svm\n",
    "from sklearn.preprocessing import LabelEncoder\n",
    "encoder = LabelEncoder()\n",
    "from sklearn.feature_selection import SelectKBest\n",
    "from sklearn.feature_selection import chi2"
   ]
  },
  {
   "cell_type": "markdown",
   "id": "32589d9f",
   "metadata": {},
   "source": [
    "#### Baca Data"
   ]
  },
  {
   "cell_type": "code",
   "execution_count": 2,
   "id": "01519d0d",
   "metadata": {},
   "outputs": [
    {
     "data": {
      "text/html": [
       "<div>\n",
       "<style scoped>\n",
       "    .dataframe tbody tr th:only-of-type {\n",
       "        vertical-align: middle;\n",
       "    }\n",
       "\n",
       "    .dataframe tbody tr th {\n",
       "        vertical-align: top;\n",
       "    }\n",
       "\n",
       "    .dataframe thead th {\n",
       "        text-align: right;\n",
       "    }\n",
       "</style>\n",
       "<table border=\"1\" class=\"dataframe\">\n",
       "  <thead>\n",
       "    <tr style=\"text-align: right;\">\n",
       "      <th></th>\n",
       "      <th>JK</th>\n",
       "      <th>Usia</th>\n",
       "      <th>BB</th>\n",
       "      <th>TB</th>\n",
       "      <th>StatusGizi</th>\n",
       "      <th>Label</th>\n",
       "    </tr>\n",
       "  </thead>\n",
       "  <tbody>\n",
       "    <tr>\n",
       "      <th>0</th>\n",
       "      <td>L</td>\n",
       "      <td>7</td>\n",
       "      <td>6.5</td>\n",
       "      <td>63.0</td>\n",
       "      <td>Gizi Baik</td>\n",
       "      <td>Stunting</td>\n",
       "    </tr>\n",
       "    <tr>\n",
       "      <th>1</th>\n",
       "      <td>L</td>\n",
       "      <td>1</td>\n",
       "      <td>4.5</td>\n",
       "      <td>52.0</td>\n",
       "      <td>Risiko Obesitas</td>\n",
       "      <td>Normal</td>\n",
       "    </tr>\n",
       "    <tr>\n",
       "      <th>2</th>\n",
       "      <td>P</td>\n",
       "      <td>17</td>\n",
       "      <td>10.2</td>\n",
       "      <td>78.2</td>\n",
       "      <td>Gizi Baik</td>\n",
       "      <td>Normal</td>\n",
       "    </tr>\n",
       "    <tr>\n",
       "      <th>3</th>\n",
       "      <td>P</td>\n",
       "      <td>23</td>\n",
       "      <td>9.3</td>\n",
       "      <td>80.2</td>\n",
       "      <td>Gizi Baik</td>\n",
       "      <td>Normal</td>\n",
       "    </tr>\n",
       "    <tr>\n",
       "      <th>4</th>\n",
       "      <td>L</td>\n",
       "      <td>18</td>\n",
       "      <td>12.0</td>\n",
       "      <td>84.0</td>\n",
       "      <td>Gizi Baik</td>\n",
       "      <td>Normal</td>\n",
       "    </tr>\n",
       "    <tr>\n",
       "      <th>...</th>\n",
       "      <td>...</td>\n",
       "      <td>...</td>\n",
       "      <td>...</td>\n",
       "      <td>...</td>\n",
       "      <td>...</td>\n",
       "      <td>...</td>\n",
       "    </tr>\n",
       "    <tr>\n",
       "      <th>1325</th>\n",
       "      <td>L</td>\n",
       "      <td>2</td>\n",
       "      <td>3.3</td>\n",
       "      <td>49.4</td>\n",
       "      <td>Gizi Kurang</td>\n",
       "      <td>Stunting</td>\n",
       "    </tr>\n",
       "    <tr>\n",
       "      <th>1326</th>\n",
       "      <td>P</td>\n",
       "      <td>13</td>\n",
       "      <td>7.6</td>\n",
       "      <td>69.3</td>\n",
       "      <td>Gizi Baik</td>\n",
       "      <td>Stunting</td>\n",
       "    </tr>\n",
       "    <tr>\n",
       "      <th>1327</th>\n",
       "      <td>L</td>\n",
       "      <td>23</td>\n",
       "      <td>8.6</td>\n",
       "      <td>80.0</td>\n",
       "      <td>Gizi Baik</td>\n",
       "      <td>Stunting</td>\n",
       "    </tr>\n",
       "    <tr>\n",
       "      <th>1328</th>\n",
       "      <td>L</td>\n",
       "      <td>12</td>\n",
       "      <td>8.0</td>\n",
       "      <td>67.3</td>\n",
       "      <td>Gizi Baik</td>\n",
       "      <td>Stunting</td>\n",
       "    </tr>\n",
       "    <tr>\n",
       "      <th>1329</th>\n",
       "      <td>L</td>\n",
       "      <td>7</td>\n",
       "      <td>6.9</td>\n",
       "      <td>65.0</td>\n",
       "      <td>Gizi Baik</td>\n",
       "      <td>Stunting</td>\n",
       "    </tr>\n",
       "  </tbody>\n",
       "</table>\n",
       "<p>1330 rows × 6 columns</p>\n",
       "</div>"
      ],
      "text/plain": [
       "      JK  Usia    BB    TB       StatusGizi     Label\n",
       "0     L      7   6.5  63.0        Gizi Baik  Stunting\n",
       "1     L      1   4.5  52.0  Risiko Obesitas    Normal\n",
       "2     P     17  10.2  78.2        Gizi Baik    Normal\n",
       "3     P     23   9.3  80.2        Gizi Baik    Normal\n",
       "4     L     18  12.0  84.0        Gizi Baik    Normal\n",
       "...   ..   ...   ...   ...              ...       ...\n",
       "1325  L      2   3.3  49.4      Gizi Kurang  Stunting\n",
       "1326  P     13   7.6  69.3        Gizi Baik  Stunting\n",
       "1327  L     23   8.6  80.0        Gizi Baik  Stunting\n",
       "1328  L     12   8.0  67.3        Gizi Baik  Stunting\n",
       "1329  L      7   6.9  65.0        Gizi Baik  Stunting\n",
       "\n",
       "[1330 rows x 6 columns]"
      ]
     },
     "execution_count": 2,
     "metadata": {},
     "output_type": "execute_result"
    }
   ],
   "source": [
    "# Membaca data dengan format CSV\n",
    "data = pd.read_csv('TUGAS AKHIR.csv',delimiter=\",\")\n",
    "data"
   ]
  },
  {
   "cell_type": "markdown",
   "id": "8352584f",
   "metadata": {},
   "source": [
    "#### Visualisasi Kelas"
   ]
  },
  {
   "cell_type": "code",
   "execution_count": 3,
   "id": "e852b07e",
   "metadata": {},
   "outputs": [
    {
     "data": {
      "image/png": "[encoded data removed]",
      "text/plain": [
       "<Figure size 432x288 with 1 Axes>"
      ]
     },
     "metadata": {
      "needs_background": "light"
     },
     "output_type": "display_data"
    }
   ],
   "source": [
    "# Visualisasi atribut kelas/label\n",
    "data['Label'].value_counts()\n",
    "# Menampilkan jumlah atribut kelas dalam bentuk plot\n",
    "data['Label'].value_counts().plot.bar()\n",
    "plt.tight_layout()\n",
    "plt.show()"
   ]
  },
  {
   "cell_type": "markdown",
   "id": "46f79acf",
   "metadata": {},
   "source": [
    "#### LABELING DATA"
   ]
  },
  {
   "cell_type": "markdown",
   "id": "def18569",
   "metadata": {},
   "source": [
    "#### Label Encoder"
   ]
  },
  {
   "cell_type": "code",
   "execution_count": 4,
   "id": "dc731933",
   "metadata": {},
   "outputs": [
    {
     "data": {
      "text/html": [
       "<div>\n",
       "<style scoped>\n",
       "    .dataframe tbody tr th:only-of-type {\n",
       "        vertical-align: middle;\n",
       "    }\n",
       "\n",
       "    .dataframe tbody tr th {\n",
       "        vertical-align: top;\n",
       "    }\n",
       "\n",
       "    .dataframe thead th {\n",
       "        text-align: right;\n",
       "    }\n",
       "</style>\n",
       "<table border=\"1\" class=\"dataframe\">\n",
       "  <thead>\n",
       "    <tr style=\"text-align: right;\">\n",
       "      <th></th>\n",
       "      <th>JK</th>\n",
       "      <th>Usia</th>\n",
       "      <th>BB</th>\n",
       "      <th>TB</th>\n",
       "      <th>StatusGizi</th>\n",
       "      <th>Label</th>\n",
       "    </tr>\n",
       "  </thead>\n",
       "  <tbody>\n",
       "    <tr>\n",
       "      <th>0</th>\n",
       "      <td>0</td>\n",
       "      <td>7</td>\n",
       "      <td>6.5</td>\n",
       "      <td>63.0</td>\n",
       "      <td>0</td>\n",
       "      <td>1</td>\n",
       "    </tr>\n",
       "    <tr>\n",
       "      <th>1</th>\n",
       "      <td>0</td>\n",
       "      <td>1</td>\n",
       "      <td>4.5</td>\n",
       "      <td>52.0</td>\n",
       "      <td>3</td>\n",
       "      <td>0</td>\n",
       "    </tr>\n",
       "    <tr>\n",
       "      <th>2</th>\n",
       "      <td>1</td>\n",
       "      <td>17</td>\n",
       "      <td>10.2</td>\n",
       "      <td>78.2</td>\n",
       "      <td>0</td>\n",
       "      <td>0</td>\n",
       "    </tr>\n",
       "    <tr>\n",
       "      <th>3</th>\n",
       "      <td>1</td>\n",
       "      <td>23</td>\n",
       "      <td>9.3</td>\n",
       "      <td>80.2</td>\n",
       "      <td>0</td>\n",
       "      <td>0</td>\n",
       "    </tr>\n",
       "    <tr>\n",
       "      <th>4</th>\n",
       "      <td>0</td>\n",
       "      <td>18</td>\n",
       "      <td>12.0</td>\n",
       "      <td>84.0</td>\n",
       "      <td>0</td>\n",
       "      <td>0</td>\n",
       "    </tr>\n",
       "    <tr>\n",
       "      <th>...</th>\n",
       "      <td>...</td>\n",
       "      <td>...</td>\n",
       "      <td>...</td>\n",
       "      <td>...</td>\n",
       "      <td>...</td>\n",
       "      <td>...</td>\n",
       "    </tr>\n",
       "    <tr>\n",
       "      <th>1325</th>\n",
       "      <td>0</td>\n",
       "      <td>2</td>\n",
       "      <td>3.3</td>\n",
       "      <td>49.4</td>\n",
       "      <td>1</td>\n",
       "      <td>1</td>\n",
       "    </tr>\n",
       "    <tr>\n",
       "      <th>1326</th>\n",
       "      <td>1</td>\n",
       "      <td>13</td>\n",
       "      <td>7.6</td>\n",
       "      <td>69.3</td>\n",
       "      <td>0</td>\n",
       "      <td>1</td>\n",
       "    </tr>\n",
       "    <tr>\n",
       "      <th>1327</th>\n",
       "      <td>0</td>\n",
       "      <td>23</td>\n",
       "      <td>8.6</td>\n",
       "      <td>80.0</td>\n",
       "      <td>0</td>\n",
       "      <td>1</td>\n",
       "    </tr>\n",
       "    <tr>\n",
       "      <th>1328</th>\n",
       "      <td>0</td>\n",
       "      <td>12</td>\n",
       "      <td>8.0</td>\n",
       "      <td>67.3</td>\n",
       "      <td>0</td>\n",
       "      <td>1</td>\n",
       "    </tr>\n",
       "    <tr>\n",
       "      <th>1329</th>\n",
       "      <td>0</td>\n",
       "      <td>7</td>\n",
       "      <td>6.9</td>\n",
       "      <td>65.0</td>\n",
       "      <td>0</td>\n",
       "      <td>1</td>\n",
       "    </tr>\n",
       "  </tbody>\n",
       "</table>\n",
       "<p>1330 rows × 6 columns</p>\n",
       "</div>"
      ],
      "text/plain": [
       "      JK  Usia    BB    TB  StatusGizi  Label\n",
       "0      0     7   6.5  63.0           0      1\n",
       "1      0     1   4.5  52.0           3      0\n",
       "2      1    17  10.2  78.2           0      0\n",
       "3      1    23   9.3  80.2           0      0\n",
       "4      0    18  12.0  84.0           0      0\n",
       "...   ..   ...   ...   ...         ...    ...\n",
       "1325   0     2   3.3  49.4           1      1\n",
       "1326   1    13   7.6  69.3           0      1\n",
       "1327   0    23   8.6  80.0           0      1\n",
       "1328   0    12   8.0  67.3           0      1\n",
       "1329   0     7   6.9  65.0           0      1\n",
       "\n",
       "[1330 rows x 6 columns]"
      ]
     },
     "execution_count": 4,
     "metadata": {},
     "output_type": "execute_result"
    }
   ],
   "source": [
    "# Label encoder(Mengubah data teks menjadi numerik)\n",
    "# Mengubah data pada kolom atribut JK, status gizi dan label \n",
    "# menjadi data numerik\n",
    "data['JK'] = encoder.fit_transform (data['JK'])\n",
    "data['StatusGizi'] = encoder.fit_transform (data['StatusGizi'])\n",
    "data['Label'] = encoder.fit_transform (data['Label'])\n",
    "data"
   ]
  },
  {
   "cell_type": "markdown",
   "id": "a6a370ea",
   "metadata": {},
   "source": [
    "#### PREPROCESSING"
   ]
  },
  {
   "cell_type": "markdown",
   "id": "83a6ee11",
   "metadata": {},
   "source": [
    "#### Cek Missing Value"
   ]
  },
  {
   "cell_type": "code",
   "execution_count": 5,
   "id": "af056ba8",
   "metadata": {},
   "outputs": [
    {
     "data": {
      "text/plain": [
       "JK            0\n",
       "Usia          0\n",
       "BB            0\n",
       "TB            0\n",
       "StatusGizi    0\n",
       "Label         0\n",
       "dtype: int64"
      ]
     },
     "execution_count": 5,
     "metadata": {},
     "output_type": "execute_result"
    }
   ],
   "source": [
    "# Mengecek data yang mengalami missing value\n",
    "data.isna().sum()"
   ]
  },
  {
   "cell_type": "markdown",
   "id": "acaaad7e",
   "metadata": {},
   "source": [
    "#### Seleksi Atribut (Menggunakan Information Gain dan Chisquare)"
   ]
  },
  {
   "cell_type": "code",
   "execution_count": 6,
   "id": "4af6e784",
   "metadata": {},
   "outputs": [],
   "source": [
    "# Memisahkan fitur dan label\n",
    "X = data.drop('Label',axis=1) #Fitur\n",
    "Y = data['Label'] #label"
   ]
  },
  {
   "cell_type": "code",
   "execution_count": 7,
   "id": "db3700a2",
   "metadata": {},
   "outputs": [
    {
     "name": "stdout",
     "output_type": "stream",
     "text": [
      "Selected Features:\n",
      "    Attribute     Score\n",
      "3          TB  0.228752\n",
      "2          BB  0.226216\n",
      "1        Usia  0.157396\n",
      "4  StatusGizi  0.050215\n",
      "0          JK  0.008320\n"
     ]
    }
   ],
   "source": [
    "# Information Gain\n",
    "from sklearn.feature_selection import mutual_info_classif\n",
    "# Melakukan seleksi untuk 5 fitur terbaik menggunakan Information Gain\n",
    "selector = SelectKBest(score_func=mutual_info_classif, k=5)\n",
    "X_new = selector.fit_transform(X, Y)\n",
    "# Menampilkan fitur terbaik beserta dengan skornya\n",
    "scores = selector.scores_\n",
    "selected_features = pd.DataFrame({'Attribute': X.columns, 'Score': scores})\n",
    "selected_features = selected_features.sort_values(by='Score', ascending=False)\n",
    "print(\"Selected Features:\")\n",
    "print(selected_features)"
   ]
  },
  {
   "cell_type": "markdown",
   "id": "09d819a3",
   "metadata": {},
   "source": [
    "#### Drop Atribut"
   ]
  },
  {
   "cell_type": "code",
   "execution_count": 8,
   "id": "9099648b",
   "metadata": {},
   "outputs": [],
   "source": [
    "# Menghapus 3 atribut yang memiliki skor paling rendah pada tahap\n",
    "# seleksi atribut\n",
    "X = data.drop('JK',axis=1)\n",
    "Y = data.JK"
   ]
  },
  {
   "cell_type": "code",
   "execution_count": 9,
   "id": "2ecd2ca4",
   "metadata": {},
   "outputs": [
    {
     "data": {
      "text/html": [
       "<div>\n",
       "<style scoped>\n",
       "    .dataframe tbody tr th:only-of-type {\n",
       "        vertical-align: middle;\n",
       "    }\n",
       "\n",
       "    .dataframe tbody tr th {\n",
       "        vertical-align: top;\n",
       "    }\n",
       "\n",
       "    .dataframe thead th {\n",
       "        text-align: right;\n",
       "    }\n",
       "</style>\n",
       "<table border=\"1\" class=\"dataframe\">\n",
       "  <thead>\n",
       "    <tr style=\"text-align: right;\">\n",
       "      <th></th>\n",
       "      <th>Usia</th>\n",
       "      <th>BB</th>\n",
       "      <th>TB</th>\n",
       "      <th>StatusGizi</th>\n",
       "    </tr>\n",
       "  </thead>\n",
       "  <tbody>\n",
       "    <tr>\n",
       "      <th>0</th>\n",
       "      <td>7</td>\n",
       "      <td>6.5</td>\n",
       "      <td>63.0</td>\n",
       "      <td>0</td>\n",
       "    </tr>\n",
       "    <tr>\n",
       "      <th>1</th>\n",
       "      <td>1</td>\n",
       "      <td>4.5</td>\n",
       "      <td>52.0</td>\n",
       "      <td>3</td>\n",
       "    </tr>\n",
       "    <tr>\n",
       "      <th>2</th>\n",
       "      <td>17</td>\n",
       "      <td>10.2</td>\n",
       "      <td>78.2</td>\n",
       "      <td>0</td>\n",
       "    </tr>\n",
       "    <tr>\n",
       "      <th>3</th>\n",
       "      <td>23</td>\n",
       "      <td>9.3</td>\n",
       "      <td>80.2</td>\n",
       "      <td>0</td>\n",
       "    </tr>\n",
       "    <tr>\n",
       "      <th>4</th>\n",
       "      <td>18</td>\n",
       "      <td>12.0</td>\n",
       "      <td>84.0</td>\n",
       "      <td>0</td>\n",
       "    </tr>\n",
       "    <tr>\n",
       "      <th>...</th>\n",
       "      <td>...</td>\n",
       "      <td>...</td>\n",
       "      <td>...</td>\n",
       "      <td>...</td>\n",
       "    </tr>\n",
       "    <tr>\n",
       "      <th>1325</th>\n",
       "      <td>2</td>\n",
       "      <td>3.3</td>\n",
       "      <td>49.4</td>\n",
       "      <td>1</td>\n",
       "    </tr>\n",
       "    <tr>\n",
       "      <th>1326</th>\n",
       "      <td>13</td>\n",
       "      <td>7.6</td>\n",
       "      <td>69.3</td>\n",
       "      <td>0</td>\n",
       "    </tr>\n",
       "    <tr>\n",
       "      <th>1327</th>\n",
       "      <td>23</td>\n",
       "      <td>8.6</td>\n",
       "      <td>80.0</td>\n",
       "      <td>0</td>\n",
       "    </tr>\n",
       "    <tr>\n",
       "      <th>1328</th>\n",
       "      <td>12</td>\n",
       "      <td>8.0</td>\n",
       "      <td>67.3</td>\n",
       "      <td>0</td>\n",
       "    </tr>\n",
       "    <tr>\n",
       "      <th>1329</th>\n",
       "      <td>7</td>\n",
       "      <td>6.9</td>\n",
       "      <td>65.0</td>\n",
       "      <td>0</td>\n",
       "    </tr>\n",
       "  </tbody>\n",
       "</table>\n",
       "<p>1330 rows × 4 columns</p>\n",
       "</div>"
      ],
      "text/plain": [
       "      Usia    BB    TB  StatusGizi\n",
       "0        7   6.5  63.0           0\n",
       "1        1   4.5  52.0           3\n",
       "2       17  10.2  78.2           0\n",
       "3       23   9.3  80.2           0\n",
       "4       18  12.0  84.0           0\n",
       "...    ...   ...   ...         ...\n",
       "1325     2   3.3  49.4           1\n",
       "1326    13   7.6  69.3           0\n",
       "1327    23   8.6  80.0           0\n",
       "1328    12   8.0  67.3           0\n",
       "1329     7   6.9  65.0           0\n",
       "\n",
       "[1330 rows x 4 columns]"
      ]
     },
     "execution_count": 9,
     "metadata": {},
     "output_type": "execute_result"
    }
   ],
   "source": [
    "X_Lab = X.drop('Label',axis=1)\n",
    "Y_Lab = X['Label']\n",
    "X_Lab"
   ]
  },
  {
   "cell_type": "markdown",
   "id": "bebf76ff",
   "metadata": {},
   "source": [
    "#### Transformasi Data (Pengujian dengan dua metode normalisasi)"
   ]
  },
  {
   "cell_type": "markdown",
   "id": "c3a566eb",
   "metadata": {},
   "source": [
    "#### Normalisasi Min-Max"
   ]
  },
  {
   "cell_type": "code",
   "execution_count": 10,
   "id": "8aafb7d0",
   "metadata": {},
   "outputs": [
    {
     "name": "stderr",
     "output_type": "stream",
     "text": [
      "C:\\Users\\ASUS\\anaconda3\\lib\\site-packages\\numpy\\core\\fromnumeric.py:84: FutureWarning: In a future version, DataFrame.min(axis=None) will return a scalar min over the entire DataFrame. To retain the old behavior, use 'frame.min(axis=0)' or just 'frame.min()'\n",
      "  return reduction(axis=axis, out=out, **passkwargs)\n",
      "C:\\Users\\ASUS\\anaconda3\\lib\\site-packages\\numpy\\core\\fromnumeric.py:84: FutureWarning: In a future version, DataFrame.max(axis=None) will return a scalar max over the entire DataFrame. To retain the old behavior, use 'frame.max(axis=0)' or just 'frame.max()'\n",
      "  return reduction(axis=axis, out=out, **passkwargs)\n"
     ]
    },
    {
     "data": {
      "text/html": [
       "<div>\n",
       "<style scoped>\n",
       "    .dataframe tbody tr th:only-of-type {\n",
       "        vertical-align: middle;\n",
       "    }\n",
       "\n",
       "    .dataframe tbody tr th {\n",
       "        vertical-align: top;\n",
       "    }\n",
       "\n",
       "    .dataframe thead th {\n",
       "        text-align: right;\n",
       "    }\n",
       "</style>\n",
       "<table border=\"1\" class=\"dataframe\">\n",
       "  <thead>\n",
       "    <tr style=\"text-align: right;\">\n",
       "      <th></th>\n",
       "      <th>Usia</th>\n",
       "      <th>BB</th>\n",
       "      <th>TB</th>\n",
       "      <th>StatusGizi</th>\n",
       "    </tr>\n",
       "  </thead>\n",
       "  <tbody>\n",
       "    <tr>\n",
       "      <th>0</th>\n",
       "      <td>0.118644</td>\n",
       "      <td>0.226994</td>\n",
       "      <td>0.561122</td>\n",
       "      <td>0.000000</td>\n",
       "    </tr>\n",
       "    <tr>\n",
       "      <th>1</th>\n",
       "      <td>0.016949</td>\n",
       "      <td>0.104294</td>\n",
       "      <td>0.450902</td>\n",
       "      <td>1.000000</td>\n",
       "    </tr>\n",
       "    <tr>\n",
       "      <th>2</th>\n",
       "      <td>0.288136</td>\n",
       "      <td>0.453988</td>\n",
       "      <td>0.713427</td>\n",
       "      <td>0.000000</td>\n",
       "    </tr>\n",
       "    <tr>\n",
       "      <th>3</th>\n",
       "      <td>0.389831</td>\n",
       "      <td>0.398773</td>\n",
       "      <td>0.733467</td>\n",
       "      <td>0.000000</td>\n",
       "    </tr>\n",
       "    <tr>\n",
       "      <th>4</th>\n",
       "      <td>0.305085</td>\n",
       "      <td>0.564417</td>\n",
       "      <td>0.771543</td>\n",
       "      <td>0.000000</td>\n",
       "    </tr>\n",
       "    <tr>\n",
       "      <th>...</th>\n",
       "      <td>...</td>\n",
       "      <td>...</td>\n",
       "      <td>...</td>\n",
       "      <td>...</td>\n",
       "    </tr>\n",
       "    <tr>\n",
       "      <th>1325</th>\n",
       "      <td>0.033898</td>\n",
       "      <td>0.030675</td>\n",
       "      <td>0.424850</td>\n",
       "      <td>0.333333</td>\n",
       "    </tr>\n",
       "    <tr>\n",
       "      <th>1326</th>\n",
       "      <td>0.220339</td>\n",
       "      <td>0.294479</td>\n",
       "      <td>0.624248</td>\n",
       "      <td>0.000000</td>\n",
       "    </tr>\n",
       "    <tr>\n",
       "      <th>1327</th>\n",
       "      <td>0.389831</td>\n",
       "      <td>0.355828</td>\n",
       "      <td>0.731463</td>\n",
       "      <td>0.000000</td>\n",
       "    </tr>\n",
       "    <tr>\n",
       "      <th>1328</th>\n",
       "      <td>0.203390</td>\n",
       "      <td>0.319018</td>\n",
       "      <td>0.604208</td>\n",
       "      <td>0.000000</td>\n",
       "    </tr>\n",
       "    <tr>\n",
       "      <th>1329</th>\n",
       "      <td>0.118644</td>\n",
       "      <td>0.251534</td>\n",
       "      <td>0.581162</td>\n",
       "      <td>0.000000</td>\n",
       "    </tr>\n",
       "  </tbody>\n",
       "</table>\n",
       "<p>1330 rows × 4 columns</p>\n",
       "</div>"
      ],
      "text/plain": [
       "          Usia        BB        TB  StatusGizi\n",
       "0     0.118644  0.226994  0.561122    0.000000\n",
       "1     0.016949  0.104294  0.450902    1.000000\n",
       "2     0.288136  0.453988  0.713427    0.000000\n",
       "3     0.389831  0.398773  0.733467    0.000000\n",
       "4     0.305085  0.564417  0.771543    0.000000\n",
       "...        ...       ...       ...         ...\n",
       "1325  0.033898  0.030675  0.424850    0.333333\n",
       "1326  0.220339  0.294479  0.624248    0.000000\n",
       "1327  0.389831  0.355828  0.731463    0.000000\n",
       "1328  0.203390  0.319018  0.604208    0.000000\n",
       "1329  0.118644  0.251534  0.581162    0.000000\n",
       "\n",
       "[1330 rows x 4 columns]"
      ]
     },
     "execution_count": 10,
     "metadata": {},
     "output_type": "execute_result"
    }
   ],
   "source": [
    "#Transformasi MinMax\n",
    "data_min = np.min(X_Lab)\n",
    "data_max = np.max(X_Lab)\n",
    "data_standar = (X_Lab - data_min) / (data_max - data_min)\n",
    "data_standar"
   ]
  },
  {
   "cell_type": "markdown",
   "id": "eff77e1f",
   "metadata": {},
   "source": [
    "#### Split Data menjadi 90:10 (Normalisasi Min-max)"
   ]
  },
  {
   "cell_type": "code",
   "execution_count": 11,
   "id": "d9022e56",
   "metadata": {},
   "outputs": [
    {
     "name": "stdout",
     "output_type": "stream",
     "text": [
      "\n",
      "Dimension of Xtrain : (1197, 4)\n",
      "\n",
      "Dimension of Xtest : (133, 4)\n",
      "\n",
      "Dimension of Ytrain : (1197,)\n",
      "\n",
      "Dimension of Ytest : (133,)\n"
     ]
    }
   ],
   "source": [
    "from sklearn.model_selection import train_test_split\n",
    "# Membagi data menjadi data training dan data testing\n",
    "X_train, X_test, y_train, y_test = train_test_split(data_standar, Y_Lab, test_size=0.1, random_state=42)\n",
    "print('\\nDimension of Xtrain :',X_train.shape)\n",
    "print('\\nDimension of Xtest :',X_test.shape)\n",
    "print('\\nDimension of Ytrain :',y_train.shape)\n",
    "print('\\nDimension of Ytest :',y_test.shape)"
   ]
  },
  {
   "cell_type": "markdown",
   "id": "8e156ba9",
   "metadata": {},
   "source": [
    "#### PEMODELAN dan PENGUJIAN "
   ]
  },
  {
   "cell_type": "markdown",
   "id": "63b6a48b",
   "metadata": {},
   "source": [
    "### Pengujian model dengan Normalisasi Min-max"
   ]
  },
  {
   "cell_type": "markdown",
   "id": "15fb67f4",
   "metadata": {},
   "source": [
    "#### A. Modeling Naive Bayes"
   ]
  },
  {
   "cell_type": "markdown",
   "id": "c2e0355a",
   "metadata": {},
   "source": [
    "#### UJI DATA TRAINING DAN MODELING GAUSSIANNB"
   ]
  },
  {
   "cell_type": "markdown",
   "id": "2edf6288",
   "metadata": {},
   "source": [
    "#### CV = 7"
   ]
  },
  {
   "cell_type": "markdown",
   "id": "b073bd87",
   "metadata": {},
   "source": [
    "#### GaussianNB"
   ]
  },
  {
   "cell_type": "code",
   "execution_count": 12,
   "id": "ac209ef5",
   "metadata": {},
   "outputs": [],
   "source": [
    "# Klasifikasi Gaussian\n",
    "from sklearn.model_selection import cross_val_score\n",
    "kfold1 = KFold(n_splits=7, random_state=42, shuffle=True)\n",
    "Gnb = GaussianNB()\n",
    "results = cross_val_score(Gnb, X_train,y_train,cv=kfold1)"
   ]
  },
  {
   "cell_type": "code",
   "execution_count": 13,
   "id": "ff7cb614",
   "metadata": {},
   "outputs": [],
   "source": [
    "# Membagi data menjadi 2 dataset (Training dan Testing)\n",
    "for i, (train_index, test_index) in enumerate(kfold1.split(X_train, y_train)):\n",
    "    Xtrain, Xvalid = X_train.iloc[train_index], X_train.iloc[test_index]\n",
    "    ytrain, yvalid = y_train.iloc[train_index], y_train.iloc[test_index]"
   ]
  },
  {
   "cell_type": "code",
   "execution_count": 14,
   "id": "8febd068",
   "metadata": {},
   "outputs": [
    {
     "name": "stdout",
     "output_type": "stream",
     "text": [
      "\n",
      "Dimension of Xtrain : (1026, 4)\n",
      "\n",
      "Dimension of Xtest : (171, 4)\n",
      "\n",
      "Dimension of Ytrain : (1026,)\n",
      "\n",
      "Dimension of Ytest : (171,)\n"
     ]
    }
   ],
   "source": [
    "print('\\nDimension of Xtrain :',Xtrain.shape)\n",
    "print('\\nDimension of Xtest :',Xvalid.shape)\n",
    "print('\\nDimension of Ytrain :',ytrain.shape)\n",
    "print('\\nDimension of Ytest :',yvalid.shape)"
   ]
  },
  {
   "cell_type": "code",
   "execution_count": 15,
   "id": "91ba7bfb",
   "metadata": {},
   "outputs": [
    {
     "data": {
      "image/png": "[encoded data removed]",
      "text/plain": [
       "<Figure size 432x288 with 2 Axes>"
      ]
     },
     "metadata": {
      "needs_background": "light"
     },
     "output_type": "display_data"
    }
   ],
   "source": [
    "# CONFUSION MATRIX \n",
    "from sklearn.metrics import confusion_matrix\n",
    "import matplotlib.pyplot as plt\n",
    "import seaborn as sns\n",
    "# melakukan prediksi pada set pengujian\n",
    "Gnb.fit(Xtrain, ytrain)\n",
    "ypred = Gnb.predict(Xvalid)\n",
    "# membuat confusion matrix\n",
    "cm = confusion_matrix(yvalid, ypred)\n",
    "#cm\n",
    "#membuat plot confusion matrix dengan visualisasi menggunakan seaborn\n",
    "sns.heatmap(cm, annot=True, cmap=\"Reds\")\n",
    "plt.title(\"Confusion Matrix GaussianNB\")\n",
    "plt.xlabel(\"Predicted Label\")\n",
    "plt.ylabel(\"True Label\")\n",
    "plt.show()"
   ]
  },
  {
   "cell_type": "code",
   "execution_count": 16,
   "id": "c7d8345e",
   "metadata": {},
   "outputs": [
    {
     "name": "stdout",
     "output_type": "stream",
     "text": [
      "Hasil Klasifikasi Report\n",
      "\n",
      "              precision    recall  f1-score   support\n",
      "\n",
      "           0       0.93      0.67      0.78        84\n",
      "           1       0.75      0.95      0.84        87\n",
      "\n",
      "    accuracy                           0.81       171\n",
      "   macro avg       0.84      0.81      0.81       171\n",
      "weighted avg       0.84      0.81      0.81       171\n",
      "\n"
     ]
    }
   ],
   "source": [
    "# Modeling Naive Bayes\n",
    "Gnb.fit(Xtrain, ytrain)\n",
    "ypred = Gnb.predict(Xvalid)\n",
    "print (\"Hasil Klasifikasi Report\\n\")\n",
    "print (classification_report(yvalid, ypred))"
   ]
  },
  {
   "cell_type": "markdown",
   "id": "11418b7f",
   "metadata": {},
   "source": [
    "#### UJI DATA TRAINING DAN MODELING BERNOULLINB"
   ]
  },
  {
   "cell_type": "markdown",
   "id": "29f130dc",
   "metadata": {},
   "source": [
    "#### BernoulliNB"
   ]
  },
  {
   "cell_type": "code",
   "execution_count": 17,
   "id": "08a53c24",
   "metadata": {},
   "outputs": [],
   "source": [
    "# Klasifikasi Bernoulli\n",
    "kfold2 = KFold(n_splits=7, random_state=42, shuffle=True)\n",
    "Bnb = BernoulliNB()\n",
    "results = cross_val_score(Bnb, X_train,y_train,cv=kfold2)"
   ]
  },
  {
   "cell_type": "code",
   "execution_count": 18,
   "id": "dce1fe08",
   "metadata": {},
   "outputs": [],
   "source": [
    "# Membagi data menjadi 2 dataset (Training dan Testing)\n",
    "for i, (train_index, test_index) in enumerate(kfold2.split(X_train, y_train)):\n",
    "    Xtrain, Xvalid = X_train.iloc[train_index], X_train.iloc[test_index]\n",
    "    ytrain, yvalid = y_train.iloc[train_index], y_train.iloc[test_index]"
   ]
  },
  {
   "cell_type": "code",
   "execution_count": 19,
   "id": "164d372c",
   "metadata": {},
   "outputs": [
    {
     "data": {
      "image/png": "[encoded data removed]",
      "text/plain": [
       "<Figure size 432x288 with 2 Axes>"
      ]
     },
     "metadata": {
      "needs_background": "light"
     },
     "output_type": "display_data"
    }
   ],
   "source": [
    "# CONFUSION MATRIX \n",
    "from sklearn.metrics import confusion_matrix\n",
    "import matplotlib.pyplot as plt\n",
    "import seaborn as sns\n",
    "# melakukan prediksi pada set pengujian\n",
    "Bnb.fit(Xtrain, ytrain)\n",
    "ypred = Bnb.predict(Xvalid)\n",
    "# membuat confusion matrix\n",
    "cm = confusion_matrix(yvalid, ypred)\n",
    "# membuat plot confusion matrix dengan visualisasi menggunakan seaborn\n",
    "sns.heatmap(cm, annot=True, cmap=\"Oranges\")\n",
    "plt.title(\"Confusion Matrix BernoulliNB\")\n",
    "plt.xlabel(\"Predicted Label\")\n",
    "plt.ylabel(\"True Label\")\n",
    "plt.show()"
   ]
  },
  {
   "cell_type": "code",
   "execution_count": 20,
   "id": "326e789f",
   "metadata": {},
   "outputs": [
    {
     "name": "stdout",
     "output_type": "stream",
     "text": [
      "Hasil Klasifikasi Report\n",
      "\n",
      "              precision    recall  f1-score   support\n",
      "\n",
      "           0       0.57      0.89      0.69        84\n",
      "           1       0.77      0.34      0.48        87\n",
      "\n",
      "    accuracy                           0.61       171\n",
      "   macro avg       0.67      0.62      0.59       171\n",
      "weighted avg       0.67      0.61      0.58       171\n",
      "\n"
     ]
    }
   ],
   "source": [
    "# Modeling Naive Bayes\n",
    "Bnb.fit(Xtrain, ytrain)\n",
    "ypred = Bnb.predict(Xvalid)\n",
    "print (\"Hasil Klasifikasi Report\\n\")\n",
    "print (classification_report(yvalid, ypred))"
   ]
  },
  {
   "cell_type": "markdown",
   "id": "fa925fbf",
   "metadata": {},
   "source": [
    "#### CV = 10"
   ]
  },
  {
   "cell_type": "markdown",
   "id": "0f6d78da",
   "metadata": {},
   "source": [
    "#### UJI DATA TRAINING DAN MODELING GAUSSIANNB"
   ]
  },
  {
   "cell_type": "markdown",
   "id": "31c9e811",
   "metadata": {},
   "source": [
    "#### GaussianNB"
   ]
  },
  {
   "cell_type": "code",
   "execution_count": 21,
   "id": "3ff01f8b",
   "metadata": {},
   "outputs": [],
   "source": [
    "from sklearn.model_selection import cross_val_score\n",
    "kfold3 = KFold(n_splits=10, random_state=42, shuffle=True)\n",
    "Gnb = GaussianNB()\n",
    "results = cross_val_score(Gnb, X_train,y_train,cv=kfold3)"
   ]
  },
  {
   "cell_type": "code",
   "execution_count": 22,
   "id": "ca2ea0c4",
   "metadata": {},
   "outputs": [],
   "source": [
    "# Membagi data menjadi 2 dataset (Training dan Testing)\n",
    "for i, (train_index, test_index) in enumerate(kfold3.split(X_train, y_train)):\n",
    "    Xtrain, Xvalid = X_train.iloc[train_index], X_train.iloc[test_index]\n",
    "    ytrain, yvalid = y_train.iloc[train_index], y_train.iloc[test_index]"
   ]
  },
  {
   "cell_type": "code",
   "execution_count": 23,
   "id": "7ad04e94",
   "metadata": {},
   "outputs": [
    {
     "name": "stdout",
     "output_type": "stream",
     "text": [
      "\n",
      "Dimension of Xtrain : (1078, 4)\n",
      "\n",
      "Dimension of Xtest : (119, 4)\n",
      "\n",
      "Dimension of Ytrain : (1078,)\n",
      "\n",
      "Dimension of Ytest : (119,)\n"
     ]
    }
   ],
   "source": [
    "print('\\nDimension of Xtrain :',Xtrain.shape)\n",
    "print('\\nDimension of Xtest :',Xvalid.shape)\n",
    "print('\\nDimension of Ytrain :',ytrain.shape)\n",
    "print('\\nDimension of Ytest :',yvalid.shape)"
   ]
  },
  {
   "cell_type": "code",
   "execution_count": 24,
   "id": "00680e98",
   "metadata": {},
   "outputs": [
    {
     "data": {
      "image/png": "[encoded data removed]",
      "text/plain": [
       "<Figure size 432x288 with 2 Axes>"
      ]
     },
     "metadata": {
      "needs_background": "light"
     },
     "output_type": "display_data"
    }
   ],
   "source": [
    "# CONFUSION MATRIX \n",
    "from sklearn.metrics import confusion_matrix\n",
    "import matplotlib.pyplot as plt\n",
    "import seaborn as sns\n",
    "# melakukan prediksi pada set pengujian\n",
    "Gnb.fit(Xtrain, ytrain)\n",
    "ypred = Gnb.predict(Xvalid)\n",
    "# membuat confusion matrix\n",
    "cm = confusion_matrix(yvalid, ypred)\n",
    "# membuat plot confusion matrix dengan visualisasi menggunakan seaborn\n",
    "sns.heatmap(cm, annot=True, cmap=\"Reds\")\n",
    "plt.title(\"Confusion Matrix GaussianNB\")\n",
    "plt.xlabel(\"Predicted Label\")\n",
    "plt.ylabel(\"True Label\")\n",
    "plt.show()"
   ]
  },
  {
   "cell_type": "code",
   "execution_count": 25,
   "id": "eb1a930c",
   "metadata": {},
   "outputs": [
    {
     "name": "stdout",
     "output_type": "stream",
     "text": [
      "Hasil Klasifikasi Report\n",
      "\n",
      "              precision    recall  f1-score   support\n",
      "\n",
      "           0       0.93      0.62      0.74        60\n",
      "           1       0.71      0.95      0.81        59\n",
      "\n",
      "    accuracy                           0.78       119\n",
      "   macro avg       0.82      0.78      0.78       119\n",
      "weighted avg       0.82      0.78      0.78       119\n",
      "\n"
     ]
    }
   ],
   "source": [
    "# Modeling Naive Bayes\n",
    "Gnb.fit(Xtrain, ytrain)\n",
    "ypred = Gnb.predict(Xvalid)\n",
    "print (\"Hasil Klasifikasi Report\\n\")\n",
    "print (classification_report(yvalid, ypred))"
   ]
  },
  {
   "cell_type": "markdown",
   "id": "94d2d8f5",
   "metadata": {},
   "source": [
    "#### UJI DATA TRAINING DAN MODELING BERNOULLINB"
   ]
  },
  {
   "cell_type": "markdown",
   "id": "873fd3bb",
   "metadata": {},
   "source": [
    "#### BernoulliNB"
   ]
  },
  {
   "cell_type": "code",
   "execution_count": 26,
   "id": "664fbcda",
   "metadata": {},
   "outputs": [],
   "source": [
    "# Klasifikasi Bernoulli\n",
    "kfold4 = KFold(n_splits=10, random_state=42, shuffle=True)\n",
    "Bnb = BernoulliNB()\n",
    "results = cross_val_score(Bnb, X_train, y_train, cv=kfold4)"
   ]
  },
  {
   "cell_type": "code",
   "execution_count": 27,
   "id": "239d418e",
   "metadata": {},
   "outputs": [],
   "source": [
    "# Membagi data menjadi 2 dataset (Training dan Testing)\n",
    "for i, (train_index, test_index) in enumerate(kfold4.split(X_train, y_train)):\n",
    "    Xtrain, Xvalid = X_train.iloc[train_index], X_train.iloc[test_index]\n",
    "    ytrain, yvalid = y_train.iloc[train_index], y_train.iloc[test_index]"
   ]
  },
  {
   "cell_type": "code",
   "execution_count": 28,
   "id": "5368fe1d",
   "metadata": {},
   "outputs": [
    {
     "data": {
      "image/png": "[encoded data removed]",
      "text/plain": [
       "<Figure size 432x288 with 2 Axes>"
      ]
     },
     "metadata": {
      "needs_background": "light"
     },
     "output_type": "display_data"
    }
   ],
   "source": [
    "# CONFUSION MATRIX \n",
    "from sklearn.metrics import confusion_matrix\n",
    "import matplotlib.pyplot as plt\n",
    "import seaborn as sns\n",
    "# melakukan prediksi pada set pengujian\n",
    "Bnb.fit(Xtrain, ytrain)\n",
    "ypred = Bnb.predict(Xvalid)\n",
    "# membuat confusion matrix\n",
    "cm = confusion_matrix(yvalid, ypred)\n",
    "# membuat plot confusion matrix dengan visualisasi menggunakan seaborn\n",
    "sns.heatmap(cm, annot=True, cmap=\"Oranges\")\n",
    "plt.title(\"Confusion Matrix BernoulliNB\")\n",
    "plt.xlabel(\"Predicted Label\")\n",
    "plt.ylabel(\"True Label\")\n",
    "plt.show()"
   ]
  },
  {
   "cell_type": "code",
   "execution_count": 29,
   "id": "e1c287cf",
   "metadata": {},
   "outputs": [
    {
     "name": "stdout",
     "output_type": "stream",
     "text": [
      "Hasil Klasifikasi Report\n",
      "\n",
      "              precision    recall  f1-score   support\n",
      "\n",
      "           0       0.57      0.90      0.70        60\n",
      "           1       0.75      0.31      0.43        59\n",
      "\n",
      "    accuracy                           0.61       119\n",
      "   macro avg       0.66      0.60      0.57       119\n",
      "weighted avg       0.66      0.61      0.57       119\n",
      "\n"
     ]
    }
   ],
   "source": [
    "# Modeling Naive Bayes\n",
    "Bnb.fit(Xtrain, ytrain)\n",
    "ypred = Bnb.predict(Xvalid)\n",
    "print (\"Hasil Klasifikasi Report\\n\")\n",
    "print (classification_report(yvalid, ypred))"
   ]
  },
  {
   "cell_type": "markdown",
   "id": "d83d0a63",
   "metadata": {},
   "source": [
    "#### B. Modelling SVM"
   ]
  },
  {
   "cell_type": "markdown",
   "id": "b13b79d0",
   "metadata": {},
   "source": [
    "#### CV = 7"
   ]
  },
  {
   "cell_type": "markdown",
   "id": "ad906541",
   "metadata": {},
   "source": [
    "#### UJI DATA TRAINING DAN MODELING POLINOMIAL KERNEL"
   ]
  },
  {
   "cell_type": "markdown",
   "id": "0c4b3f40",
   "metadata": {},
   "source": [
    "#### Polynomial Kernel"
   ]
  },
  {
   "cell_type": "code",
   "execution_count": 30,
   "id": "b76ca971",
   "metadata": {},
   "outputs": [],
   "source": [
    "kfold5 = KFold(n_splits=7, random_state=42, shuffle=True)\n",
    "Poli = svm.SVC(kernel='poly', degree=3, C=1)\n",
    "results = cross_val_score(Poli, X_train, y_train,cv=kfold5)"
   ]
  },
  {
   "cell_type": "code",
   "execution_count": 31,
   "id": "fb1a4ae6",
   "metadata": {},
   "outputs": [],
   "source": [
    "# Membagi data menjadi 2 dataset (Training dan Testing)\n",
    "for i, (train_index, test_index) in enumerate(kfold5.split(X_train, y_train)):\n",
    "    Xtrain, Xvalid = X_train.iloc[train_index], X_train.iloc[test_index]\n",
    "    ytrain, yvalid = y_train.iloc[train_index], y_train.iloc[test_index]"
   ]
  },
  {
   "cell_type": "code",
   "execution_count": 32,
   "id": "4f5254e4",
   "metadata": {},
   "outputs": [
    {
     "name": "stdout",
     "output_type": "stream",
     "text": [
      "\n",
      "Dimension of Xtrain : (1026, 4)\n",
      "\n",
      "Dimension of Xtest : (171, 4)\n",
      "\n",
      "Dimension of Ytrain : (1026,)\n",
      "\n",
      "Dimension of Ytest : (171,)\n"
     ]
    }
   ],
   "source": [
    "print('\\nDimension of Xtrain :',Xtrain.shape)\n",
    "print('\\nDimension of Xtest :',Xvalid.shape)\n",
    "print('\\nDimension of Ytrain :',ytrain.shape)\n",
    "print('\\nDimension of Ytest :',yvalid.shape)"
   ]
  },
  {
   "cell_type": "code",
   "execution_count": 33,
   "id": "b0cb04c9",
   "metadata": {},
   "outputs": [
    {
     "data": {
      "image/png": "[encoded data removed]",
      "text/plain": [
       "<Figure size 432x288 with 2 Axes>"
      ]
     },
     "metadata": {
      "needs_background": "light"
     },
     "output_type": "display_data"
    }
   ],
   "source": [
    "# CONFUSION MATRIX \n",
    "from sklearn.metrics import confusion_matrix\n",
    "import matplotlib.pyplot as plt\n",
    "import seaborn as sns\n",
    "# melakukan prediksi pada set pengujian\n",
    "Poli.fit(Xtrain, ytrain)\n",
    "ypred = Poli.predict(Xvalid)\n",
    "# membuat confusion matrix\n",
    "cm = confusion_matrix(yvalid, ypred)\n",
    "# membuat plot confusion matrix dengan visualisasi menggunakan seaborn\n",
    "sns.heatmap(cm, annot=True, cmap=\"Greens\")\n",
    "plt.title(\"Confusion Matrix Polynomian\")\n",
    "plt.xlabel(\"Predicted Label\")\n",
    "plt.ylabel(\"True Label\")\n",
    "plt.show()"
   ]
  },
  {
   "cell_type": "code",
   "execution_count": 34,
   "id": "98617545",
   "metadata": {},
   "outputs": [
    {
     "name": "stdout",
     "output_type": "stream",
     "text": [
      "Hasil Klasifikasi Report\n",
      "\n",
      "              precision    recall  f1-score   support\n",
      "\n",
      "           0       0.93      0.82      0.87        84\n",
      "           1       0.85      0.94      0.89        87\n",
      "\n",
      "    accuracy                           0.88       171\n",
      "   macro avg       0.89      0.88      0.88       171\n",
      "weighted avg       0.89      0.88      0.88       171\n",
      "\n"
     ]
    }
   ],
   "source": [
    "# Modeling Support Vector Machine\n",
    "Poli.fit(Xtrain, ytrain)\n",
    "ypred = Poli.predict(Xvalid)\n",
    "print (\"Hasil Klasifikasi Report\\n\")\n",
    "print (classification_report(yvalid, ypred))"
   ]
  },
  {
   "cell_type": "markdown",
   "id": "9da4e267",
   "metadata": {},
   "source": [
    "#### UJI DATA TRAINING DAN MODELING RBF KERNEL"
   ]
  },
  {
   "cell_type": "markdown",
   "id": "01d0cf2a",
   "metadata": {},
   "source": [
    "#### RBF Kernel"
   ]
  },
  {
   "cell_type": "code",
   "execution_count": 35,
   "id": "6043c8d8",
   "metadata": {},
   "outputs": [],
   "source": [
    "kfold6 = KFold(n_splits=7, random_state=42, shuffle=True)\n",
    "Rbf = svm.SVC(kernel='rbf', gamma='scale', C=1)\n",
    "results = cross_val_score(Rbf, X_train, y_train, cv=kfold6)"
   ]
  },
  {
   "cell_type": "code",
   "execution_count": 36,
   "id": "2bc4b226",
   "metadata": {},
   "outputs": [],
   "source": [
    "# Membagi data menjadi 2 dataset (Training dan Testing)\n",
    "for i, (train_index, test_index) in enumerate(kfold6.split(X_train, y_train)):\n",
    "    Xtrain, Xvalid = X_train.iloc[train_index], X_train.iloc[test_index]\n",
    "    ytrain, yvalid = y_train.iloc[train_index], y_train.iloc[test_index]"
   ]
  },
  {
   "cell_type": "code",
   "execution_count": 37,
   "id": "322f7353",
   "metadata": {},
   "outputs": [
    {
     "data": {
      "image/png": "[encoded data removed]",
      "text/plain": [
       "<Figure size 432x288 with 2 Axes>"
      ]
     },
     "metadata": {
      "needs_background": "light"
     },
     "output_type": "display_data"
    }
   ],
   "source": [
    "# CONFUSION MATRIX \n",
    "from sklearn.metrics import confusion_matrix\n",
    "import matplotlib.pyplot as plt\n",
    "import seaborn as sns\n",
    "# melakukan prediksi pada set pengujian\n",
    "Rbf.fit(Xtrain, ytrain)\n",
    "ypred = Rbf.predict(Xvalid)\n",
    "# membuat confusion matrix\n",
    "cm = confusion_matrix(yvalid, ypred)\n",
    "# membuat plot confusion matrix dengan visualisasi menggunakan seaborn\n",
    "sns.heatmap(cm, annot=True, cmap=\"Blues\")\n",
    "plt.title(\"Confusion Matrix Rbf Kernel\")\n",
    "plt.xlabel(\"Predicted Label\")\n",
    "plt.ylabel(\"True Label\")\n",
    "plt.show()"
   ]
  },
  {
   "cell_type": "code",
   "execution_count": 38,
   "id": "0b85f365",
   "metadata": {},
   "outputs": [
    {
     "name": "stdout",
     "output_type": "stream",
     "text": [
      "Hasil Klasifikasi Report\n",
      "\n",
      "              precision    recall  f1-score   support\n",
      "\n",
      "           0       0.94      0.81      0.87        84\n",
      "           1       0.84      0.95      0.89        87\n",
      "\n",
      "    accuracy                           0.88       171\n",
      "   macro avg       0.89      0.88      0.88       171\n",
      "weighted avg       0.89      0.88      0.88       171\n",
      "\n"
     ]
    }
   ],
   "source": [
    "# Modeling Support Vector Machine\n",
    "Rbf.fit(Xtrain, ytrain)\n",
    "ypred = Rbf.predict(Xvalid)\n",
    "print (\"Hasil Klasifikasi Report\\n\")\n",
    "print (classification_report(yvalid, ypred))"
   ]
  },
  {
   "cell_type": "markdown",
   "id": "bab3b50a",
   "metadata": {},
   "source": [
    "#### CV = 10"
   ]
  },
  {
   "cell_type": "markdown",
   "id": "a0910b4a",
   "metadata": {},
   "source": [
    "#### UJI DATA TRAINING DAN MODELING POLYNOMIAL KERNEL "
   ]
  },
  {
   "cell_type": "markdown",
   "id": "04345861",
   "metadata": {},
   "source": [
    "#### Polynomial Kernel"
   ]
  },
  {
   "cell_type": "code",
   "execution_count": 39,
   "id": "1423f8ca",
   "metadata": {},
   "outputs": [],
   "source": [
    "kfold7 = KFold(n_splits=10, random_state=42, shuffle=True)\n",
    "Poli = svm.SVC(kernel='poly', degree=3, C=1)\n",
    "results = cross_val_score(Poli, X_train, y_train, cv=kfold7)"
   ]
  },
  {
   "cell_type": "code",
   "execution_count": 40,
   "id": "ca92eccf",
   "metadata": {},
   "outputs": [],
   "source": [
    "# Membagi data menjadi 2 dataset (Training dan Testing)\n",
    "for i, (train_index, test_index) in enumerate(kfold7.split(X_train, y_train)):\n",
    "    Xtrain, Xvalid = X_train.iloc[train_index], X_train.iloc[test_index]\n",
    "    ytrain, yvalid = y_train.iloc[train_index], y_train.iloc[test_index]"
   ]
  },
  {
   "cell_type": "code",
   "execution_count": 41,
   "id": "aa5baa9e",
   "metadata": {},
   "outputs": [
    {
     "name": "stdout",
     "output_type": "stream",
     "text": [
      "\n",
      "Dimension of Xtrain : (1078, 4)\n",
      "\n",
      "Dimension of Xtest : (119, 4)\n",
      "\n",
      "Dimension of Ytrain : (1078,)\n",
      "\n",
      "Dimension of Ytest : (119,)\n"
     ]
    }
   ],
   "source": [
    "print('\\nDimension of Xtrain :',Xtrain.shape)\n",
    "print('\\nDimension of Xtest :',Xvalid.shape)\n",
    "print('\\nDimension of Ytrain :',ytrain.shape)\n",
    "print('\\nDimension of Ytest :',yvalid.shape)"
   ]
  },
  {
   "cell_type": "code",
   "execution_count": 42,
   "id": "931d371f",
   "metadata": {},
   "outputs": [
    {
     "data": {
      "image/png": "[encoded data removed]",
      "text/plain": [
       "<Figure size 432x288 with 2 Axes>"
      ]
     },
     "metadata": {
      "needs_background": "light"
     },
     "output_type": "display_data"
    }
   ],
   "source": [
    "# CONFUSION MATRIX \n",
    "from sklearn.metrics import confusion_matrix\n",
    "import matplotlib.pyplot as plt\n",
    "import seaborn as sns\n",
    "# melakukan prediksi pada set pengujian\n",
    "Poli.fit(Xtrain, ytrain)\n",
    "ypred = Poli.predict(Xvalid)\n",
    "# membuat confusion matrix\n",
    "cm = confusion_matrix(yvalid, ypred)\n",
    "# membuat plot confusion matrix dengan visualisasi menggunakan seaborn\n",
    "sns.heatmap(cm, annot=True, cmap=\"Greens\")\n",
    "plt.title(\"Confusion Matrix Polynomian\")\n",
    "plt.xlabel(\"Predicted Label\")\n",
    "plt.ylabel(\"True Label\")\n",
    "plt.show()"
   ]
  },
  {
   "cell_type": "code",
   "execution_count": 43,
   "id": "4f531bdb",
   "metadata": {},
   "outputs": [
    {
     "name": "stdout",
     "output_type": "stream",
     "text": [
      "Hasil Klasifikasi Report\n",
      "\n",
      "              precision    recall  f1-score   support\n",
      "\n",
      "           0       0.94      0.80      0.86        60\n",
      "           1       0.82      0.95      0.88        59\n",
      "\n",
      "    accuracy                           0.87       119\n",
      "   macro avg       0.88      0.87      0.87       119\n",
      "weighted avg       0.88      0.87      0.87       119\n",
      "\n"
     ]
    }
   ],
   "source": [
    "# Modeling Support Vector Machine\n",
    "Poli.fit(Xtrain, ytrain)\n",
    "ypred = Poli.predict(Xvalid)\n",
    "print (\"Hasil Klasifikasi Report\\n\")\n",
    "print (classification_report(yvalid, ypred))"
   ]
  },
  {
   "cell_type": "markdown",
   "id": "f58d8cd2",
   "metadata": {},
   "source": [
    "#### UJI DATA TRAINING DAN MODELING RBF KERNEL"
   ]
  },
  {
   "cell_type": "markdown",
   "id": "fb22342e",
   "metadata": {},
   "source": [
    "#### RBF Kernel"
   ]
  },
  {
   "cell_type": "code",
   "execution_count": 44,
   "id": "767ba969",
   "metadata": {},
   "outputs": [],
   "source": [
    "kfold8 = KFold(n_splits=10, random_state=42, shuffle=True)\n",
    "Rbf = svm.SVC(kernel='rbf', gamma='scale', C=1)\n",
    "results = cross_val_score(Rbf, X_train, y_train, cv=kfold8)"
   ]
  },
  {
   "cell_type": "code",
   "execution_count": 45,
   "id": "2e42d40d",
   "metadata": {},
   "outputs": [],
   "source": [
    "# Membagi data menjadi 2 dataset (Training dan Testing)\n",
    "for i, (train_index, test_index) in enumerate(kfold8.split(X_train, y_train)):\n",
    "    Xtrain, Xvalid = X_train.iloc[train_index], X_train.iloc[test_index]\n",
    "    ytrain, yvalid = y_train.iloc[train_index], y_train.iloc[test_index]"
   ]
  },
  {
   "cell_type": "code",
   "execution_count": 46,
   "id": "4e130ed4",
   "metadata": {},
   "outputs": [
    {
     "data": {
      "image/png": "[encoded data removed]",
      "text/plain": [
       "<Figure size 432x288 with 2 Axes>"
      ]
     },
     "metadata": {
      "needs_background": "light"
     },
     "output_type": "display_data"
    }
   ],
   "source": [
    "# CONFUSION MATRIX \n",
    "from sklearn.metrics import confusion_matrix\n",
    "import matplotlib.pyplot as plt\n",
    "import seaborn as sns\n",
    "# melakukan prediksi pada set pengujian\n",
    "Rbf.fit(Xtrain, ytrain)\n",
    "ypred = Rbf.predict(Xvalid)\n",
    "# membuat confusion matrix\n",
    "cm = confusion_matrix(yvalid, ypred)\n",
    "# membuat plot confusion matrix dengan visualisasi menggunakan seaborn\n",
    "sns.heatmap(cm, annot=True, cmap=\"Blues\")\n",
    "plt.title(\"Confusion Matrix Rbf Kernel\")\n",
    "plt.xlabel(\"Predicted Label\")\n",
    "plt.ylabel(\"True Label\")\n",
    "plt.show()"
   ]
  },
  {
   "cell_type": "code",
   "execution_count": 47,
   "id": "f58cf4e6",
   "metadata": {},
   "outputs": [
    {
     "name": "stdout",
     "output_type": "stream",
     "text": [
      "Hasil Klasifikasi Report\n",
      "\n",
      "              precision    recall  f1-score   support\n",
      "\n",
      "           0       0.94      0.78      0.85        60\n",
      "           1       0.81      0.95      0.87        59\n",
      "\n",
      "    accuracy                           0.87       119\n",
      "   macro avg       0.88      0.87      0.86       119\n",
      "weighted avg       0.88      0.87      0.86       119\n",
      "\n"
     ]
    }
   ],
   "source": [
    "# Modeling Support Vector Machine\n",
    "Rbf.fit(Xtrain, ytrain)\n",
    "ypred = Rbf.predict(Xvalid)\n",
    "print (\"Hasil Klasifikasi Report\\n\")\n",
    "print (classification_report(yvalid, ypred))"
   ]
  },
  {
   "cell_type": "markdown",
   "id": "54e1d067",
   "metadata": {},
   "source": [
    "### UJI DATA TESTING DENGAN NORMALISASI MIN-MAX"
   ]
  },
  {
   "cell_type": "markdown",
   "id": "0fea745d",
   "metadata": {},
   "source": [
    "#### TESTING DATA 1"
   ]
  },
  {
   "cell_type": "markdown",
   "id": "a489919c",
   "metadata": {},
   "source": [
    "#### GAUSSIAN NAIVE BAYES"
   ]
  },
  {
   "cell_type": "code",
   "execution_count": 48,
   "id": "0c8b3386",
   "metadata": {},
   "outputs": [
    {
     "data": {
      "image/png": "[encoded data removed]",
      "text/plain": [
       "<Figure size 432x288 with 2 Axes>"
      ]
     },
     "metadata": {
      "needs_background": "light"
     },
     "output_type": "display_data"
    }
   ],
   "source": [
    "# CONFUSION MATRIX \n",
    "from sklearn.metrics import confusion_matrix\n",
    "import matplotlib.pyplot as plt\n",
    "import seaborn as sns\n",
    "# melakukan prediksi pada set pengujian\n",
    "Gnb.fit(Xtrain, ytrain)\n",
    "ypred = Gnb.predict(X_test)\n",
    "# membuat confusion matrix\n",
    "cm = confusion_matrix(y_test, ypred)\n",
    "#cm\n",
    "#membuat plot confusion matrix dengan visualisasi menggunakan seaborn\n",
    "sns.heatmap(cm, annot=True, cmap=\"Reds\")\n",
    "plt.title(\"Confusion Matrix GaussianNB\")\n",
    "plt.xlabel(\"Predicted Label\")\n",
    "plt.ylabel(\"True Label\")\n",
    "plt.show()"
   ]
  },
  {
   "cell_type": "code",
   "execution_count": 49,
   "id": "40723c66",
   "metadata": {},
   "outputs": [
    {
     "name": "stdout",
     "output_type": "stream",
     "text": [
      "Hasil Klasifikasi Report\n",
      "\n",
      "              precision    recall  f1-score   support\n",
      "\n",
      "           0       0.85      0.56      0.67        70\n",
      "           1       0.64      0.89      0.75        63\n",
      "\n",
      "    accuracy                           0.71       133\n",
      "   macro avg       0.75      0.72      0.71       133\n",
      "weighted avg       0.75      0.71      0.71       133\n",
      "\n"
     ]
    }
   ],
   "source": [
    "# Modeling Naive Bayes\n",
    "Gnb.fit(Xtrain, ytrain)\n",
    "ypred = Gnb.predict(X_test)\n",
    "print (\"Hasil Klasifikasi Report\\n\")\n",
    "print (classification_report(y_test, ypred))"
   ]
  },
  {
   "cell_type": "markdown",
   "id": "c0879460",
   "metadata": {},
   "source": [
    "#### BERNOULLI NAIVE BAYES"
   ]
  },
  {
   "cell_type": "code",
   "execution_count": 50,
   "id": "bacd464a",
   "metadata": {},
   "outputs": [
    {
     "data": {
      "image/png": "[encoded data removed]",
      "text/plain": [
       "<Figure size 432x288 with 2 Axes>"
      ]
     },
     "metadata": {
      "needs_background": "light"
     },
     "output_type": "display_data"
    }
   ],
   "source": [
    "# CONFUSION MATRIX \n",
    "from sklearn.metrics import confusion_matrix\n",
    "import matplotlib.pyplot as plt\n",
    "import seaborn as sns\n",
    "# melakukan prediksi pada set pengujian\n",
    "Bnb.fit(Xtrain, ytrain)\n",
    "ypred = Bnb.predict(X_test)\n",
    "# membuat confusion matrix\n",
    "cm = confusion_matrix(y_test, ypred)\n",
    "# membuat plot confusion matrix dengan visualisasi menggunakan seaborn\n",
    "sns.heatmap(cm, annot=True, cmap=\"Oranges\")\n",
    "plt.title(\"Confusion Matrix BernoulliNB\")\n",
    "plt.xlabel(\"Predicted Label\")\n",
    "plt.ylabel(\"True Label\")\n",
    "plt.show()"
   ]
  },
  {
   "cell_type": "code",
   "execution_count": 51,
   "id": "e7627172",
   "metadata": {},
   "outputs": [
    {
     "name": "stdout",
     "output_type": "stream",
     "text": [
      "Hasil Klasifikasi Report\n",
      "\n",
      "              precision    recall  f1-score   support\n",
      "\n",
      "           0       0.60      0.81      0.69        70\n",
      "           1       0.66      0.40      0.50        63\n",
      "\n",
      "    accuracy                           0.62       133\n",
      "   macro avg       0.63      0.61      0.59       133\n",
      "weighted avg       0.63      0.62      0.60       133\n",
      "\n"
     ]
    }
   ],
   "source": [
    "# Modeling Naive Bayes\n",
    "Bnb.fit(Xtrain, ytrain)\n",
    "ypred = Bnb.predict(X_test)\n",
    "print (\"Hasil Klasifikasi Report\\n\")\n",
    "print (classification_report(y_test, ypred))"
   ]
  },
  {
   "cell_type": "markdown",
   "id": "5b00cf55",
   "metadata": {},
   "source": [
    "#### POLYNOMIAL KERNEL"
   ]
  },
  {
   "cell_type": "code",
   "execution_count": 52,
   "id": "396af0de",
   "metadata": {},
   "outputs": [
    {
     "data": {
      "image/png": "[encoded data removed]",
      "text/plain": [
       "<Figure size 432x288 with 2 Axes>"
      ]
     },
     "metadata": {
      "needs_background": "light"
     },
     "output_type": "display_data"
    }
   ],
   "source": [
    "# CONFUSION MATRIX \n",
    "from sklearn.metrics import confusion_matrix\n",
    "import matplotlib.pyplot as plt\n",
    "import seaborn as sns\n",
    "# melakukan prediksi pada set pengujian\n",
    "Poli.fit(Xtrain, ytrain)\n",
    "ypred = Poli.predict(X_test)\n",
    "# membuat confusion matrix\n",
    "cm = confusion_matrix(y_test, ypred)\n",
    "# membuat plot confusion matrix dengan visualisasi menggunakan seaborn\n",
    "sns.heatmap(cm, annot=True, cmap=\"Greens\")\n",
    "plt.title(\"Confusion Matrix Polynomian\")\n",
    "plt.xlabel(\"Predicted Label\")\n",
    "plt.ylabel(\"True Label\")\n",
    "plt.show()"
   ]
  },
  {
   "cell_type": "code",
   "execution_count": 53,
   "id": "9acee68e",
   "metadata": {},
   "outputs": [
    {
     "name": "stdout",
     "output_type": "stream",
     "text": [
      "Hasil Klasifikasi Report\n",
      "\n",
      "              precision    recall  f1-score   support\n",
      "\n",
      "           0       0.91      0.76      0.83        70\n",
      "           1       0.77      0.92      0.84        63\n",
      "\n",
      "    accuracy                           0.83       133\n",
      "   macro avg       0.84      0.84      0.83       133\n",
      "weighted avg       0.85      0.83      0.83       133\n",
      "\n"
     ]
    }
   ],
   "source": [
    "# Modeling Support Vector Machine\n",
    "Poli.fit(Xtrain, ytrain)\n",
    "ypred = Poli.predict(X_test)\n",
    "print (\"Hasil Klasifikasi Report\\n\")\n",
    "print (classification_report(y_test, ypred))"
   ]
  },
  {
   "cell_type": "markdown",
   "id": "388896fd",
   "metadata": {},
   "source": [
    "#### RBF KERNEL"
   ]
  },
  {
   "cell_type": "code",
   "execution_count": 54,
   "id": "ed6c2d07",
   "metadata": {},
   "outputs": [
    {
     "data": {
      "image/png": "[encoded data removed]",
      "text/plain": [
       "<Figure size 432x288 with 2 Axes>"
      ]
     },
     "metadata": {
      "needs_background": "light"
     },
     "output_type": "display_data"
    }
   ],
   "source": [
    "# CONFUSION MATRIX \n",
    "from sklearn.metrics import confusion_matrix\n",
    "import matplotlib.pyplot as plt\n",
    "import seaborn as sns\n",
    "# melakukan prediksi pada set pengujian\n",
    "Rbf.fit(Xtrain, ytrain)\n",
    "ypred = Rbf.predict(X_test)\n",
    "# membuat confusion matrix\n",
    "cm = confusion_matrix(y_test, ypred)\n",
    "# membuat plot confusion matrix dengan visualisasi menggunakan seaborn\n",
    "sns.heatmap(cm, annot=True, cmap=\"Blues\")\n",
    "plt.title(\"Confusion Matrix Rbf Kernel\")\n",
    "plt.xlabel(\"Predicted Label\")\n",
    "plt.ylabel(\"True Label\")\n",
    "plt.show()"
   ]
  },
  {
   "cell_type": "code",
   "execution_count": 55,
   "id": "fc1f1b33",
   "metadata": {},
   "outputs": [
    {
     "name": "stdout",
     "output_type": "stream",
     "text": [
      "Hasil Klasifikasi Report\n",
      "\n",
      "              precision    recall  f1-score   support\n",
      "\n",
      "           0       0.91      0.71      0.80        70\n",
      "           1       0.74      0.92      0.82        63\n",
      "\n",
      "    accuracy                           0.81       133\n",
      "   macro avg       0.83      0.82      0.81       133\n",
      "weighted avg       0.83      0.81      0.81       133\n",
      "\n"
     ]
    }
   ],
   "source": [
    "# Modeling Support Vector Machine\n",
    "Rbf.fit(Xtrain, ytrain)\n",
    "ypred = Rbf.predict(X_test)\n",
    "print (\"Hasil Klasifikasi Report\\n\")\n",
    "print (classification_report(y_test, ypred))"
   ]
  },
  {
   "cell_type": "markdown",
   "id": "822e3cf2",
   "metadata": {},
   "source": [
    "#### TESTING DATA 2"
   ]
  },
  {
   "cell_type": "markdown",
   "id": "d344c293",
   "metadata": {},
   "source": [
    "#### GAUSSIAN NAIVE BAYES"
   ]
  },
  {
   "cell_type": "code",
   "execution_count": 56,
   "id": "8be51248",
   "metadata": {},
   "outputs": [
    {
     "name": "stdout",
     "output_type": "stream",
     "text": [
      "\n",
      "Dimension of Xtrain : (119, 4)\n",
      "\n",
      "Dimension of Xtest : (14, 4)\n",
      "\n",
      "Dimension of Ytrain : (119,)\n",
      "\n",
      "Dimension of Ytest : (14,)\n"
     ]
    }
   ],
   "source": [
    "Xtrain1, Xtest1, ytrain1, ytest1 = train_test_split(X_test, y_test, test_size=0.1, random_state=42)\n",
    "print('\\nDimension of Xtrain :',Xtrain1.shape)\n",
    "print('\\nDimension of Xtest :',Xtest1.shape)\n",
    "print('\\nDimension of Ytrain :',ytrain1.shape)\n",
    "print('\\nDimension of Ytest :',ytest1.shape)"
   ]
  },
  {
   "cell_type": "code",
   "execution_count": 57,
   "id": "1918c017",
   "metadata": {},
   "outputs": [
    {
     "data": {
      "image/png": "[encoded data removed]",
      "text/plain": [
       "<Figure size 432x288 with 2 Axes>"
      ]
     },
     "metadata": {
      "needs_background": "light"
     },
     "output_type": "display_data"
    }
   ],
   "source": [
    "# CONFUSION MATRIX \n",
    "from sklearn.metrics import confusion_matrix\n",
    "import matplotlib.pyplot as plt\n",
    "import seaborn as sns\n",
    "# melakukan prediksi pada set pengujian\n",
    "Gnb.fit(Xtrain, ytrain)\n",
    "ypred = Gnb.predict(Xtest1)\n",
    "# membuat confusion matrix\n",
    "cm = confusion_matrix(ytest1, ypred)\n",
    "#cm\n",
    "#membuat plot confusion matrix dengan visualisasi menggunakan seaborn\n",
    "sns.heatmap(cm, annot=True, cmap=\"Reds\")\n",
    "plt.title(\"Confusion Matrix GaussianNB\")\n",
    "plt.xlabel(\"Predicted Label\")\n",
    "plt.ylabel(\"True Label\")\n",
    "plt.show()"
   ]
  },
  {
   "cell_type": "code",
   "execution_count": 58,
   "id": "98e68704",
   "metadata": {},
   "outputs": [
    {
     "name": "stdout",
     "output_type": "stream",
     "text": [
      "Hasil Klasifikasi Report\n",
      "\n",
      "              precision    recall  f1-score   support\n",
      "\n",
      "           0       1.00      0.62      0.77         8\n",
      "           1       0.67      1.00      0.80         6\n",
      "\n",
      "    accuracy                           0.79        14\n",
      "   macro avg       0.83      0.81      0.78        14\n",
      "weighted avg       0.86      0.79      0.78        14\n",
      "\n"
     ]
    }
   ],
   "source": [
    "# Modeling Naive Bayes\n",
    "Gnb.fit(Xtrain, ytrain)\n",
    "ypred = Gnb.predict(Xtest1)\n",
    "print (\"Hasil Klasifikasi Report\\n\")\n",
    "print (classification_report(ytest1, ypred))"
   ]
  },
  {
   "cell_type": "markdown",
   "id": "b0e95988",
   "metadata": {},
   "source": [
    "#### BERNOULLI NAIVE BAYES"
   ]
  },
  {
   "cell_type": "code",
   "execution_count": 59,
   "id": "803aff46",
   "metadata": {},
   "outputs": [
    {
     "name": "stdout",
     "output_type": "stream",
     "text": [
      "\n",
      "Dimension of Xtrain : (119, 4)\n",
      "\n",
      "Dimension of Xtest : (14, 4)\n",
      "\n",
      "Dimension of Ytrain : (119,)\n",
      "\n",
      "Dimension of Ytest : (14,)\n"
     ]
    }
   ],
   "source": [
    "Xtrain1, Xtest1, ytrain1, ytest1 = train_test_split(X_test, y_test, test_size=0.1, random_state=42)\n",
    "print('\\nDimension of Xtrain :',Xtrain1.shape)\n",
    "print('\\nDimension of Xtest :',Xtest1.shape)\n",
    "print('\\nDimension of Ytrain :',ytrain1.shape)\n",
    "print('\\nDimension of Ytest :',ytest1.shape)"
   ]
  },
  {
   "cell_type": "code",
   "execution_count": 60,
   "id": "b1a87bf9",
   "metadata": {},
   "outputs": [
    {
     "data": {
      "image/png": "[encoded data removed]",
      "text/plain": [
       "<Figure size 432x288 with 2 Axes>"
      ]
     },
     "metadata": {
      "needs_background": "light"
     },
     "output_type": "display_data"
    }
   ],
   "source": [
    "# CONFUSION MATRIX \n",
    "from sklearn.metrics import confusion_matrix\n",
    "import matplotlib.pyplot as plt\n",
    "import seaborn as sns\n",
    "# melakukan prediksi pada set pengujian\n",
    "Bnb.fit(Xtrain, ytrain)\n",
    "ypred = Bnb.predict(Xtest1)\n",
    "# membuat confusion matrix\n",
    "cm = confusion_matrix(ytest1, ypred)\n",
    "# membuat plot confusion matrix dengan visualisasi menggunakan seaborn\n",
    "sns.heatmap(cm, annot=True, cmap=\"Oranges\")\n",
    "plt.title(\"Confusion Matrix BernoulliNB\")\n",
    "plt.xlabel(\"Predicted Label\")\n",
    "plt.ylabel(\"True Label\")\n",
    "plt.show()"
   ]
  },
  {
   "cell_type": "code",
   "execution_count": 61,
   "id": "ac9866ed",
   "metadata": {},
   "outputs": [
    {
     "name": "stdout",
     "output_type": "stream",
     "text": [
      "Hasil Klasifikasi Report\n",
      "\n",
      "              precision    recall  f1-score   support\n",
      "\n",
      "           0       0.70      0.88      0.78         8\n",
      "           1       0.75      0.50      0.60         6\n",
      "\n",
      "    accuracy                           0.71        14\n",
      "   macro avg       0.72      0.69      0.69        14\n",
      "weighted avg       0.72      0.71      0.70        14\n",
      "\n"
     ]
    }
   ],
   "source": [
    "# Modeling Naive Bayes\n",
    "Bnb.fit(Xtrain, ytrain)\n",
    "ypred = Bnb.predict(Xtest1)\n",
    "print (\"Hasil Klasifikasi Report\\n\")\n",
    "print (classification_report(ytest1, ypred))"
   ]
  },
  {
   "cell_type": "markdown",
   "id": "9731b641",
   "metadata": {},
   "source": [
    "#### POLYNOMIAL KERNEL"
   ]
  },
  {
   "cell_type": "code",
   "execution_count": 62,
   "id": "b0f34857",
   "metadata": {},
   "outputs": [
    {
     "name": "stdout",
     "output_type": "stream",
     "text": [
      "\n",
      "Dimension of Xtrain : (119, 4)\n",
      "\n",
      "Dimension of Xtest : (14, 4)\n",
      "\n",
      "Dimension of Ytrain : (119,)\n",
      "\n",
      "Dimension of Ytest : (14,)\n"
     ]
    }
   ],
   "source": [
    "Xtrain1, Xtest1, ytrain1, ytest1 = train_test_split(X_test, y_test, test_size=0.1, random_state=42)\n",
    "print('\\nDimension of Xtrain :',Xtrain1.shape)\n",
    "print('\\nDimension of Xtest :',Xtest1.shape)\n",
    "print('\\nDimension of Ytrain :',ytrain1.shape)\n",
    "print('\\nDimension of Ytest :',ytest1.shape)"
   ]
  },
  {
   "cell_type": "code",
   "execution_count": 63,
   "id": "a96110e9",
   "metadata": {},
   "outputs": [
    {
     "data": {
      "image/png": "[encoded data removed]",
      "text/plain": [
       "<Figure size 432x288 with 2 Axes>"
      ]
     },
     "metadata": {
      "needs_background": "light"
     },
     "output_type": "display_data"
    }
   ],
   "source": [
    "# CONFUSION MATRIX \n",
    "from sklearn.metrics import confusion_matrix\n",
    "import matplotlib.pyplot as plt\n",
    "import seaborn as sns\n",
    "# melakukan prediksi pada set pengujian\n",
    "Poli.fit(Xtrain, ytrain)\n",
    "ypred = Poli.predict(Xtest1)\n",
    "# membuat confusion matrix\n",
    "cm = confusion_matrix(ytest1, ypred)\n",
    "# membuat plot confusion matrix dengan visualisasi menggunakan seaborn\n",
    "sns.heatmap(cm, annot=True, cmap=\"Greens\")\n",
    "plt.title(\"Confusion Matrix Polynomian\")\n",
    "plt.xlabel(\"Predicted Label\")\n",
    "plt.ylabel(\"True Label\")\n",
    "plt.show()"
   ]
  },
  {
   "cell_type": "code",
   "execution_count": 64,
   "id": "bbb14300",
   "metadata": {},
   "outputs": [
    {
     "name": "stdout",
     "output_type": "stream",
     "text": [
      "Hasil Klasifikasi Report\n",
      "\n",
      "              precision    recall  f1-score   support\n",
      "\n",
      "           0       1.00      0.75      0.86         8\n",
      "           1       0.75      1.00      0.86         6\n",
      "\n",
      "    accuracy                           0.86        14\n",
      "   macro avg       0.88      0.88      0.86        14\n",
      "weighted avg       0.89      0.86      0.86        14\n",
      "\n"
     ]
    }
   ],
   "source": [
    "# Modeling Support Vector Machine\n",
    "Poli.fit(Xtrain, ytrain)\n",
    "ypred = Poli.predict(Xtest1)\n",
    "print (\"Hasil Klasifikasi Report\\n\")\n",
    "print (classification_report(ytest1, ypred))"
   ]
  },
  {
   "cell_type": "markdown",
   "id": "8041057b",
   "metadata": {},
   "source": [
    "#### RBF KERNEL"
   ]
  },
  {
   "cell_type": "code",
   "execution_count": 65,
   "id": "76e55790",
   "metadata": {},
   "outputs": [
    {
     "name": "stdout",
     "output_type": "stream",
     "text": [
      "\n",
      "Dimension of Xtrain : (119, 4)\n",
      "\n",
      "Dimension of Xtest : (14, 4)\n",
      "\n",
      "Dimension of Ytrain : (119,)\n",
      "\n",
      "Dimension of Ytest : (14,)\n"
     ]
    }
   ],
   "source": [
    "Xtrain1, Xtest1, ytrain1, ytest1 = train_test_split(X_test, y_test, test_size=0.1, random_state=42)\n",
    "print('\\nDimension of Xtrain :',Xtrain1.shape)\n",
    "print('\\nDimension of Xtest :',Xtest1.shape)\n",
    "print('\\nDimension of Ytrain :',ytrain1.shape)\n",
    "print('\\nDimension of Ytest :',ytest1.shape)"
   ]
  },
  {
   "cell_type": "code",
   "execution_count": 66,
   "id": "4a1a593b",
   "metadata": {},
   "outputs": [
    {
     "data": {
      "image/png": "[encoded data removed]",
      "text/plain": [
       "<Figure size 432x288 with 2 Axes>"
      ]
     },
     "metadata": {
      "needs_background": "light"
     },
     "output_type": "display_data"
    }
   ],
   "source": [
    "# CONFUSION MATRIX \n",
    "from sklearn.metrics import confusion_matrix\n",
    "import matplotlib.pyplot as plt\n",
    "import seaborn as sns\n",
    "# melakukan prediksi pada set pengujian\n",
    "Rbf.fit(Xtrain, ytrain)\n",
    "ypred = Rbf.predict(Xtest1)\n",
    "# membuat confusion matrix\n",
    "cm = confusion_matrix(ytest1, ypred)\n",
    "# membuat plot confusion matrix dengan visualisasi menggunakan seaborn\n",
    "sns.heatmap(cm, annot=True, cmap=\"Blues\")\n",
    "plt.title(\"Confusion Matrix Rbf Kernel\")\n",
    "plt.xlabel(\"Predicted Label\")\n",
    "plt.ylabel(\"True Label\")\n",
    "plt.show()"
   ]
  },
  {
   "cell_type": "code",
   "execution_count": 67,
   "id": "64559a54",
   "metadata": {},
   "outputs": [
    {
     "name": "stdout",
     "output_type": "stream",
     "text": [
      "Hasil Klasifikasi Report\n",
      "\n",
      "              precision    recall  f1-score   support\n",
      "\n",
      "           0       1.00      0.62      0.77         8\n",
      "           1       0.67      1.00      0.80         6\n",
      "\n",
      "    accuracy                           0.79        14\n",
      "   macro avg       0.83      0.81      0.78        14\n",
      "weighted avg       0.86      0.79      0.78        14\n",
      "\n"
     ]
    }
   ],
   "source": [
    "# Modeling Support Vector Machine\n",
    "Rbf.fit(Xtrain, ytrain)\n",
    "ypred = Rbf.predict(Xtest1)\n",
    "print (\"Hasil Klasifikasi Report\\n\")\n",
    "print (classification_report(ytest1, ypred))"
   ]
  },
  {
   "cell_type": "markdown",
   "id": "3da7c2f7",
   "metadata": {},
   "source": [
    "### Pengujian model dengan normalisasi Z-score"
   ]
  },
  {
   "cell_type": "markdown",
   "id": "180a1933",
   "metadata": {},
   "source": [
    "#### Normalisasi Z-Score"
   ]
  },
  {
   "cell_type": "code",
   "execution_count": 68,
   "id": "7c11061e",
   "metadata": {},
   "outputs": [
    {
     "data": {
      "text/html": [
       "<div>\n",
       "<style scoped>\n",
       "    .dataframe tbody tr th:only-of-type {\n",
       "        vertical-align: middle;\n",
       "    }\n",
       "\n",
       "    .dataframe tbody tr th {\n",
       "        vertical-align: top;\n",
       "    }\n",
       "\n",
       "    .dataframe thead th {\n",
       "        text-align: right;\n",
       "    }\n",
       "</style>\n",
       "<table border=\"1\" class=\"dataframe\">\n",
       "  <thead>\n",
       "    <tr style=\"text-align: right;\">\n",
       "      <th></th>\n",
       "      <th>Usia</th>\n",
       "      <th>BB</th>\n",
       "      <th>TB</th>\n",
       "      <th>StatusGizi</th>\n",
       "    </tr>\n",
       "  </thead>\n",
       "  <tbody>\n",
       "    <tr>\n",
       "      <th>0</th>\n",
       "      <td>-1.035808</td>\n",
       "      <td>-1.122519</td>\n",
       "      <td>-1.100879</td>\n",
       "      <td>-0.548437</td>\n",
       "    </tr>\n",
       "    <tr>\n",
       "      <th>1</th>\n",
       "      <td>-1.439625</td>\n",
       "      <td>-1.780533</td>\n",
       "      <td>-1.939712</td>\n",
       "      <td>1.902027</td>\n",
       "    </tr>\n",
       "    <tr>\n",
       "      <th>2</th>\n",
       "      <td>-0.362778</td>\n",
       "      <td>0.094806</td>\n",
       "      <td>0.058237</td>\n",
       "      <td>-0.548437</td>\n",
       "    </tr>\n",
       "    <tr>\n",
       "      <th>3</th>\n",
       "      <td>0.041040</td>\n",
       "      <td>-0.201300</td>\n",
       "      <td>0.210752</td>\n",
       "      <td>-0.548437</td>\n",
       "    </tr>\n",
       "    <tr>\n",
       "      <th>4</th>\n",
       "      <td>-0.295475</td>\n",
       "      <td>0.687018</td>\n",
       "      <td>0.500531</td>\n",
       "      <td>-0.548437</td>\n",
       "    </tr>\n",
       "    <tr>\n",
       "      <th>...</th>\n",
       "      <td>...</td>\n",
       "      <td>...</td>\n",
       "      <td>...</td>\n",
       "      <td>...</td>\n",
       "    </tr>\n",
       "    <tr>\n",
       "      <th>1325</th>\n",
       "      <td>-1.372322</td>\n",
       "      <td>-2.175341</td>\n",
       "      <td>-2.137982</td>\n",
       "      <td>0.268384</td>\n",
       "    </tr>\n",
       "    <tr>\n",
       "      <th>1326</th>\n",
       "      <td>-0.631990</td>\n",
       "      <td>-0.760612</td>\n",
       "      <td>-0.620456</td>\n",
       "      <td>-0.548437</td>\n",
       "    </tr>\n",
       "    <tr>\n",
       "      <th>1327</th>\n",
       "      <td>0.041040</td>\n",
       "      <td>-0.431605</td>\n",
       "      <td>0.195500</td>\n",
       "      <td>-0.548437</td>\n",
       "    </tr>\n",
       "    <tr>\n",
       "      <th>1328</th>\n",
       "      <td>-0.699293</td>\n",
       "      <td>-0.629009</td>\n",
       "      <td>-0.772971</td>\n",
       "      <td>-0.548437</td>\n",
       "    </tr>\n",
       "    <tr>\n",
       "      <th>1329</th>\n",
       "      <td>-1.035808</td>\n",
       "      <td>-0.990917</td>\n",
       "      <td>-0.948364</td>\n",
       "      <td>-0.548437</td>\n",
       "    </tr>\n",
       "  </tbody>\n",
       "</table>\n",
       "<p>1330 rows × 4 columns</p>\n",
       "</div>"
      ],
      "text/plain": [
       "          Usia        BB        TB  StatusGizi\n",
       "0    -1.035808 -1.122519 -1.100879   -0.548437\n",
       "1    -1.439625 -1.780533 -1.939712    1.902027\n",
       "2    -0.362778  0.094806  0.058237   -0.548437\n",
       "3     0.041040 -0.201300  0.210752   -0.548437\n",
       "4    -0.295475  0.687018  0.500531   -0.548437\n",
       "...        ...       ...       ...         ...\n",
       "1325 -1.372322 -2.175341 -2.137982    0.268384\n",
       "1326 -0.631990 -0.760612 -0.620456   -0.548437\n",
       "1327  0.041040 -0.431605  0.195500   -0.548437\n",
       "1328 -0.699293 -0.629009 -0.772971   -0.548437\n",
       "1329 -1.035808 -0.990917 -0.948364   -0.548437\n",
       "\n",
       "[1330 rows x 4 columns]"
      ]
     },
     "execution_count": 68,
     "metadata": {},
     "output_type": "execute_result"
    }
   ],
   "source": [
    "from sklearn.preprocessing import StandardScaler\n",
    "scaler = StandardScaler()\n",
    "scaler.fit(X_Lab)\n",
    "x_scaler = pd.DataFrame(scaler.transform(X_Lab),columns = X_Lab.columns)\n",
    "x_scaler"
   ]
  },
  {
   "cell_type": "markdown",
   "id": "d1d5347d",
   "metadata": {},
   "source": [
    "#### Split Data menjadi 90:10 (Normalisasi Z-Score)"
   ]
  },
  {
   "cell_type": "code",
   "execution_count": 69,
   "id": "64eaa55b",
   "metadata": {},
   "outputs": [
    {
     "name": "stdout",
     "output_type": "stream",
     "text": [
      "\n",
      "Dimension of Xtrain : (1197, 4)\n",
      "\n",
      "Dimension of Xtest : (133, 4)\n",
      "\n",
      "Dimension of Ytrain : (1197,)\n",
      "\n",
      "Dimension of Ytest : (133,)\n"
     ]
    }
   ],
   "source": [
    "from sklearn.model_selection import train_test_split\n",
    "# Membagi data menjadi data training dan data testing\n",
    "Xtraining, Xtesting, ytraining, ytesting = train_test_split(x_scaler, Y_Lab, test_size=0.1, random_state=42)\n",
    "print('\\nDimension of Xtrain :',Xtraining.shape)\n",
    "print('\\nDimension of Xtest :',Xtesting.shape)\n",
    "print('\\nDimension of Ytrain :',ytraining.shape)\n",
    "print('\\nDimension of Ytest :',ytesting.shape)"
   ]
  },
  {
   "cell_type": "markdown",
   "id": "5781f4b7",
   "metadata": {},
   "source": [
    "#### A. Model Naive Bayes"
   ]
  },
  {
   "cell_type": "markdown",
   "id": "a00d56ff",
   "metadata": {},
   "source": [
    "#### CV = 7"
   ]
  },
  {
   "cell_type": "markdown",
   "id": "d502d496",
   "metadata": {},
   "source": [
    "#### UJI DATA TRAINING DAN MODELING GAUSSIANNB"
   ]
  },
  {
   "cell_type": "markdown",
   "id": "83af4ba6",
   "metadata": {},
   "source": [
    "##### GaussianNB"
   ]
  },
  {
   "cell_type": "code",
   "execution_count": 70,
   "id": "eb35ea67",
   "metadata": {},
   "outputs": [],
   "source": [
    "# Klasifikasi Gaussian \n",
    "from sklearn.model_selection import cross_val_score\n",
    "kfold9 = KFold(n_splits=7, random_state=42, shuffle=True)\n",
    "Gnb = GaussianNB()\n",
    "results = cross_val_score(Gnb, Xtraining, ytraining, cv=kfold9)"
   ]
  },
  {
   "cell_type": "code",
   "execution_count": 71,
   "id": "b842d5b9",
   "metadata": {},
   "outputs": [],
   "source": [
    "# Membagi data menjadi 2 dataset (Training dan Testing)\n",
    "for i, (train_index, test_index) in enumerate(kfold9.split(Xtraining, ytraining)):\n",
    "    Xtrain1, Xvalid1 = Xtraining.iloc[train_index], Xtraining.iloc[test_index]\n",
    "    ytrain1, yvalid1 = ytraining.iloc[train_index], ytraining.iloc[test_index]"
   ]
  },
  {
   "cell_type": "code",
   "execution_count": 72,
   "id": "1002f6dc",
   "metadata": {},
   "outputs": [
    {
     "name": "stdout",
     "output_type": "stream",
     "text": [
      "\n",
      "Dimension of Xtrain : (1026, 4)\n",
      "\n",
      "Dimension of Xtest : (171, 4)\n",
      "\n",
      "Dimension of Ytrain : (1026,)\n",
      "\n",
      "Dimension of Ytest : (171,)\n"
     ]
    }
   ],
   "source": [
    "print('\\nDimension of Xtrain :',Xtrain1.shape)\n",
    "print('\\nDimension of Xtest :',Xvalid1.shape)\n",
    "print('\\nDimension of Ytrain :',ytrain1.shape)\n",
    "print('\\nDimension of Ytest :',yvalid1.shape)"
   ]
  },
  {
   "cell_type": "code",
   "execution_count": 73,
   "id": "8a5b1310",
   "metadata": {},
   "outputs": [
    {
     "data": {
      "image/png": "[encoded data removed]",
      "text/plain": [
       "<Figure size 432x288 with 2 Axes>"
      ]
     },
     "metadata": {
      "needs_background": "light"
     },
     "output_type": "display_data"
    }
   ],
   "source": [
    "# CONFUSION MATRIX \n",
    "from sklearn.metrics import confusion_matrix\n",
    "import matplotlib.pyplot as plt\n",
    "import seaborn as sns\n",
    "# melakukan prediksi pada set pengujian\n",
    "Gnb.fit(Xtrain1, ytrain1)\n",
    "ypred = Gnb.predict(Xvalid1)\n",
    "# membuat confusion matrix\n",
    "cm = confusion_matrix(yvalid1, ypred)\n",
    "# membuat plot confusion matrix dengan visualisasi menggunakan seaborn\n",
    "sns.heatmap(cm, annot=True, cmap=\"Reds\")\n",
    "plt.title(\"Confusion Matrix GaussianNB\")\n",
    "plt.xlabel(\"Predicted Label\")\n",
    "plt.ylabel(\"True Label\")\n",
    "plt.show()"
   ]
  },
  {
   "cell_type": "code",
   "execution_count": 74,
   "id": "645dfd3b",
   "metadata": {},
   "outputs": [
    {
     "name": "stdout",
     "output_type": "stream",
     "text": [
      "Hasil Klasifikasi Report\n",
      "\n",
      "              precision    recall  f1-score   support\n",
      "\n",
      "           0       0.93      0.67      0.78        84\n",
      "           1       0.75      0.95      0.84        87\n",
      "\n",
      "    accuracy                           0.81       171\n",
      "   macro avg       0.84      0.81      0.81       171\n",
      "weighted avg       0.84      0.81      0.81       171\n",
      "\n"
     ]
    }
   ],
   "source": [
    "# Modeling Naive Bayes\n",
    "Gnb.fit(Xtrain1, ytrain1)\n",
    "ypred = Gnb.predict(Xvalid1) \n",
    "print (\"Hasil Klasifikasi Report\\n\")\n",
    "print (classification_report(yvalid1, ypred))"
   ]
  },
  {
   "cell_type": "markdown",
   "id": "50de1248",
   "metadata": {},
   "source": [
    "#### UJI DATA TRAINING DAN MODELING BERNOULLINB"
   ]
  },
  {
   "cell_type": "markdown",
   "id": "4f2e3cbd",
   "metadata": {},
   "source": [
    "##### BernoulliNB"
   ]
  },
  {
   "cell_type": "code",
   "execution_count": 75,
   "id": "c9fb4062",
   "metadata": {},
   "outputs": [],
   "source": [
    "# Klasifikasi Bernoulli\n",
    "kfold10 = KFold(n_splits=7, random_state=42, shuffle=True)\n",
    "Bnb = BernoulliNB()\n",
    "results = cross_val_score(Bnb, Xtraining, ytraining, cv=kfold10)"
   ]
  },
  {
   "cell_type": "code",
   "execution_count": 76,
   "id": "2ad324a5",
   "metadata": {},
   "outputs": [],
   "source": [
    "# Membagi data menjadi 2 dataset (Training dan Testing)\n",
    "for i, (train_index, test_index) in enumerate(kfold10.split(Xtraining, ytraining)):\n",
    "    Xtrain1, Xvalid1 = Xtraining.iloc[train_index], Xtraining.iloc[test_index]\n",
    "    ytrain1, yvalid1 = ytraining.iloc[train_index], ytraining.iloc[test_index]"
   ]
  },
  {
   "cell_type": "code",
   "execution_count": 77,
   "id": "2b3ff8e7",
   "metadata": {},
   "outputs": [
    {
     "data": {
      "image/png": "[encoded data removed]",
      "text/plain": [
       "<Figure size 432x288 with 2 Axes>"
      ]
     },
     "metadata": {
      "needs_background": "light"
     },
     "output_type": "display_data"
    }
   ],
   "source": [
    "# CONFUSION MATRIX \n",
    "from sklearn.metrics import confusion_matrix\n",
    "import matplotlib.pyplot as plt\n",
    "import seaborn as sns\n",
    "# melakukan prediksi pada set pengujian\n",
    "Bnb.fit(Xtrain1, ytrain1)\n",
    "ypred = Bnb.predict(Xvalid1)\n",
    "# membuat confusion matrix\n",
    "cm = confusion_matrix(yvalid1, ypred)\n",
    "# membuat plot confusion matrix dengan visualisasi menggunakan seaborn\n",
    "sns.heatmap(cm, annot=True, cmap=\"Oranges\")\n",
    "plt.title(\"Confusion Matrix BernoulliNB\")\n",
    "plt.xlabel(\"Predicted Label\")\n",
    "plt.ylabel(\"True Label\")\n",
    "plt.show()"
   ]
  },
  {
   "cell_type": "code",
   "execution_count": 78,
   "id": "90ef4959",
   "metadata": {},
   "outputs": [
    {
     "name": "stdout",
     "output_type": "stream",
     "text": [
      "Hasil Klasifikasi Report\n",
      "\n",
      "              precision    recall  f1-score   support\n",
      "\n",
      "           0       0.84      0.75      0.79        84\n",
      "           1       0.78      0.86      0.82        87\n",
      "\n",
      "    accuracy                           0.81       171\n",
      "   macro avg       0.81      0.81      0.81       171\n",
      "weighted avg       0.81      0.81      0.81       171\n",
      "\n"
     ]
    }
   ],
   "source": [
    "# Modeling Naive Bayes\n",
    "Bnb.fit(Xtrain1, ytrain1)\n",
    "ypred = Bnb.predict(Xvalid1)\n",
    "print (\"Hasil Klasifikasi Report\\n\")\n",
    "print (classification_report(yvalid1, ypred))"
   ]
  },
  {
   "cell_type": "markdown",
   "id": "d12297d0",
   "metadata": {},
   "source": [
    "#### CV = 10"
   ]
  },
  {
   "cell_type": "markdown",
   "id": "463327bc",
   "metadata": {},
   "source": [
    "#### UJI DATA TRAINING DAN MODELING GAUSSIANNB"
   ]
  },
  {
   "cell_type": "markdown",
   "id": "67a73c41",
   "metadata": {},
   "source": [
    "##### GaussianNB"
   ]
  },
  {
   "cell_type": "code",
   "execution_count": 79,
   "id": "df708468",
   "metadata": {},
   "outputs": [],
   "source": [
    "# Klasifikasi Gaussian \n",
    "from sklearn.model_selection import cross_val_score\n",
    "kfold11 = KFold(n_splits=10, random_state=42, shuffle=True)\n",
    "Gnb = GaussianNB()\n",
    "results = cross_val_score(Bnb, Xtraining, ytraining, cv=kfold11)"
   ]
  },
  {
   "cell_type": "code",
   "execution_count": 80,
   "id": "a2fb0c04",
   "metadata": {},
   "outputs": [],
   "source": [
    "# Membagi data menjadi 2 dataset (Training dan Testing)\n",
    "for i, (train_index, test_index) in enumerate(kfold11.split(Xtraining, ytraining)):\n",
    "    Xtrain1, Xvalid1 = Xtraining.iloc[train_index], Xtraining.iloc[test_index]\n",
    "    ytrain1, yvalid1 = ytraining.iloc[train_index], ytraining.iloc[test_index]"
   ]
  },
  {
   "cell_type": "code",
   "execution_count": 81,
   "id": "8b167ffd",
   "metadata": {},
   "outputs": [
    {
     "name": "stdout",
     "output_type": "stream",
     "text": [
      "\n",
      "Dimension of Xtrain : (1078, 4)\n",
      "\n",
      "Dimension of Xtest : (119, 4)\n",
      "\n",
      "Dimension of Ytrain : (119,)\n",
      "\n",
      "Dimension of Ytest : (119,)\n"
     ]
    }
   ],
   "source": [
    "print('\\nDimension of Xtrain :',Xtrain1.shape)\n",
    "print('\\nDimension of Xtest :',Xvalid1.shape)\n",
    "print('\\nDimension of Ytrain :',yvalid1.shape)\n",
    "print('\\nDimension of Ytest :',yvalid1.shape)"
   ]
  },
  {
   "cell_type": "code",
   "execution_count": 82,
   "id": "65d96f2d",
   "metadata": {},
   "outputs": [
    {
     "data": {
      "image/png": "[encoded data removed]",
      "text/plain": [
       "<Figure size 432x288 with 2 Axes>"
      ]
     },
     "metadata": {
      "needs_background": "light"
     },
     "output_type": "display_data"
    }
   ],
   "source": [
    "# CONFUSION MATRIX \n",
    "from sklearn.metrics import confusion_matrix\n",
    "import matplotlib.pyplot as plt\n",
    "import seaborn as sns\n",
    "# melakukan prediksi pada set pengujian\n",
    "Gnb.fit(Xtrain1, ytrain1)\n",
    "ypred = Gnb.predict(Xvalid1)\n",
    "# membuat confusion matrix\n",
    "cm = confusion_matrix(yvalid1, ypred)\n",
    "# membuat plot confusion matrix dengan visualisasi menggunakan seaborn\n",
    "sns.heatmap(cm, annot=True, cmap=\"Reds\")\n",
    "plt.title(\"Confusion Matrix GaussianNB\")\n",
    "plt.xlabel(\"Predicted Label\")\n",
    "plt.ylabel(\"True Label\")\n",
    "plt.show()"
   ]
  },
  {
   "cell_type": "code",
   "execution_count": 83,
   "id": "d1874e74",
   "metadata": {},
   "outputs": [
    {
     "name": "stdout",
     "output_type": "stream",
     "text": [
      "Hasil Klasifikasi Report\n",
      "\n",
      "              precision    recall  f1-score   support\n",
      "\n",
      "           0       0.93      0.62      0.74        60\n",
      "           1       0.71      0.95      0.81        59\n",
      "\n",
      "    accuracy                           0.78       119\n",
      "   macro avg       0.82      0.78      0.78       119\n",
      "weighted avg       0.82      0.78      0.78       119\n",
      "\n"
     ]
    }
   ],
   "source": [
    "# Modeling Naive Bayes\n",
    "Gnb.fit(Xtrain1, ytrain1)\n",
    "ypred = Gnb.predict(Xvalid1) \n",
    "print (\"Hasil Klasifikasi Report\\n\")\n",
    "print (classification_report(yvalid1, ypred))"
   ]
  },
  {
   "cell_type": "markdown",
   "id": "dcf80e9c",
   "metadata": {},
   "source": [
    "#### UJI DATA TRAINING DAN MODELING BERNOULLINB"
   ]
  },
  {
   "cell_type": "markdown",
   "id": "9515b213",
   "metadata": {},
   "source": [
    "##### BernoulliNB"
   ]
  },
  {
   "cell_type": "code",
   "execution_count": 84,
   "id": "e2e181b2",
   "metadata": {},
   "outputs": [],
   "source": [
    "# Klasifikasi Bernoulli\n",
    "kfold12 = KFold(n_splits=10, random_state=42, shuffle=True)\n",
    "Bnb = BernoulliNB()\n",
    "results = cross_val_score(Bnb, Xtraining, ytraining, cv=kfold12)"
   ]
  },
  {
   "cell_type": "code",
   "execution_count": 85,
   "id": "d12b54c8",
   "metadata": {},
   "outputs": [],
   "source": [
    "# Membagi data menjadi 2 dataset (Training dan Testing)\n",
    "for i, (train_index, test_index) in enumerate(kfold12.split(Xtraining, ytraining)):\n",
    "    Xtrain1, Xvalid1 = Xtraining.iloc[train_index], Xtraining.iloc[test_index]\n",
    "    ytrain1, yvalid1 = ytraining.iloc[train_index], ytraining.iloc[test_index]"
   ]
  },
  {
   "cell_type": "code",
   "execution_count": 86,
   "id": "b460d4a2",
   "metadata": {},
   "outputs": [
    {
     "data": {
      "image/png": "[encoded data removed]",
      "text/plain": [
       "<Figure size 432x288 with 2 Axes>"
      ]
     },
     "metadata": {
      "needs_background": "light"
     },
     "output_type": "display_data"
    }
   ],
   "source": [
    "# CONFUSION MATRIX \n",
    "from sklearn.metrics import confusion_matrix\n",
    "import matplotlib.pyplot as plt\n",
    "import seaborn as sns\n",
    "# melakukan prediksi pada set pengujian\n",
    "Bnb.fit(Xtrain1, ytrain1)\n",
    "ypred = Bnb.predict(Xvalid1)\n",
    "# membuat confusion matrix\n",
    "cm = confusion_matrix(yvalid1, ypred)\n",
    "# membuat plot confusion matrix dengan visualisasi menggunakan seaborn\n",
    "sns.heatmap(cm, annot=True, cmap=\"Oranges\")\n",
    "plt.title(\"Confusion Matrix BernoulliNB\")\n",
    "plt.xlabel(\"Predicted Label\")\n",
    "plt.ylabel(\"True Label\")\n",
    "plt.show()"
   ]
  },
  {
   "cell_type": "code",
   "execution_count": 87,
   "id": "8399903d",
   "metadata": {},
   "outputs": [
    {
     "name": "stdout",
     "output_type": "stream",
     "text": [
      "Hasil Klasifikasi Report\n",
      "\n",
      "              precision    recall  f1-score   support\n",
      "\n",
      "           0       0.84      0.70      0.76        60\n",
      "           1       0.74      0.86      0.80        59\n",
      "\n",
      "    accuracy                           0.78       119\n",
      "   macro avg       0.79      0.78      0.78       119\n",
      "weighted avg       0.79      0.78      0.78       119\n",
      "\n"
     ]
    }
   ],
   "source": [
    "# Modeling Naive Bayes\n",
    "Bnb.fit(Xtrain1, ytrain1)\n",
    "ypred = Bnb.predict(Xvalid1)\n",
    "print (\"Hasil Klasifikasi Report\\n\")\n",
    "print (classification_report(yvalid1, ypred))"
   ]
  },
  {
   "cell_type": "markdown",
   "id": "21fe0954",
   "metadata": {},
   "source": [
    "#### B. Model SVM"
   ]
  },
  {
   "cell_type": "markdown",
   "id": "981d4570",
   "metadata": {},
   "source": [
    "#### CV = 7"
   ]
  },
  {
   "cell_type": "markdown",
   "id": "8ac46123",
   "metadata": {},
   "source": [
    "#### UJI DATA TRAINING DAN MODELING POLYNOMIAL KERNEL"
   ]
  },
  {
   "cell_type": "markdown",
   "id": "8abbf563",
   "metadata": {},
   "source": [
    "##### PolynomialKernell"
   ]
  },
  {
   "cell_type": "code",
   "execution_count": 88,
   "id": "9d7edbd2",
   "metadata": {},
   "outputs": [],
   "source": [
    "kfold13 = KFold(n_splits=7, random_state=42, shuffle=True)\n",
    "Poli = svm.SVC(kernel='poly', degree=3, C=1)\n",
    "results = cross_val_score(Poli, Xtraining, ytraining, cv=kfold13)"
   ]
  },
  {
   "cell_type": "code",
   "execution_count": 89,
   "id": "8a6da054",
   "metadata": {},
   "outputs": [],
   "source": [
    "# Membagi data menjadi 2 dataset (Training dan Testing)\n",
    "for i, (train_index, test_index) in enumerate(kfold13.split(Xtraining, ytraining)):\n",
    "    Xtrain1, Xvalid1 = Xtraining.iloc[train_index], Xtraining.iloc[test_index]\n",
    "    ytrain1, yvalid1 = ytraining.iloc[train_index], ytraining.iloc[test_index]"
   ]
  },
  {
   "cell_type": "code",
   "execution_count": 90,
   "id": "0713280c",
   "metadata": {},
   "outputs": [
    {
     "name": "stdout",
     "output_type": "stream",
     "text": [
      "\n",
      "Dimension of Xtrain : (1026, 4)\n",
      "\n",
      "Dimension of Xtest : (171, 4)\n",
      "\n",
      "Dimension of Ytrain : (1026,)\n",
      "\n",
      "Dimension of Ytest : (171,)\n"
     ]
    }
   ],
   "source": [
    "print('\\nDimension of Xtrain :',Xtrain1.shape)\n",
    "print('\\nDimension of Xtest :',Xvalid1.shape)\n",
    "print('\\nDimension of Ytrain :',ytrain1.shape)\n",
    "print('\\nDimension of Ytest :',yvalid1.shape)"
   ]
  },
  {
   "cell_type": "code",
   "execution_count": 91,
   "id": "c2b67e2c",
   "metadata": {},
   "outputs": [
    {
     "data": {
      "image/png": "[encoded data removed]",
      "text/plain": [
       "<Figure size 432x288 with 2 Axes>"
      ]
     },
     "metadata": {
      "needs_background": "light"
     },
     "output_type": "display_data"
    }
   ],
   "source": [
    "# CONFUSION MATRIX \n",
    "from sklearn.metrics import confusion_matrix\n",
    "import matplotlib.pyplot as plt\n",
    "import seaborn as sns\n",
    "# melakukan prediksi pada set pengujian\n",
    "Poli.fit(Xtrain1, ytrain1)\n",
    "ypred = Poli.predict(Xvalid1)\n",
    "# membuat confusion matrix\n",
    "cm = confusion_matrix(yvalid1, ypred)\n",
    "# membuat plot confusion matrix dengan visualisasi menggunakan seaborn\n",
    "sns.heatmap(cm, annot=True, cmap=\"Greens\")\n",
    "plt.title(\"Confusion Matrix Polynomial\")\n",
    "plt.xlabel(\"Predicted Label\")\n",
    "plt.ylabel(\"True Label\")\n",
    "plt.show()"
   ]
  },
  {
   "cell_type": "code",
   "execution_count": 92,
   "id": "9fa5f2c0",
   "metadata": {},
   "outputs": [
    {
     "name": "stdout",
     "output_type": "stream",
     "text": [
      "Hasil Klasifikasi Report\n",
      "\n",
      "              precision    recall  f1-score   support\n",
      "\n",
      "           0       0.65      0.92      0.76        84\n",
      "           1       0.87      0.53      0.66        87\n",
      "\n",
      "    accuracy                           0.72       171\n",
      "   macro avg       0.76      0.72      0.71       171\n",
      "weighted avg       0.76      0.72      0.71       171\n",
      "\n"
     ]
    }
   ],
   "source": [
    "# Modeling Support Vector Machine\n",
    "Poli.fit(Xtrain1, ytrain1)\n",
    "ypred = Poli.predict(Xvalid1)\n",
    "print (\"Hasil Klasifikasi Report\\n\")\n",
    "print (classification_report(yvalid1, ypred))"
   ]
  },
  {
   "cell_type": "markdown",
   "id": "12d35f0d",
   "metadata": {},
   "source": [
    "#### UJI DATA TRAINING DAN MODELING RBF KERNEL"
   ]
  },
  {
   "cell_type": "markdown",
   "id": "61e8441b",
   "metadata": {},
   "source": [
    "##### RBFKernell"
   ]
  },
  {
   "cell_type": "code",
   "execution_count": 93,
   "id": "2ccd341f",
   "metadata": {},
   "outputs": [],
   "source": [
    "kfold14 = KFold(n_splits=7, random_state=42, shuffle=True)\n",
    "Rbf = svm.SVC(kernel='rbf', gamma='scale', C=1)\n",
    "results = cross_val_score(Rbf, x_scaler, Y_Lab, cv=kfold14)"
   ]
  },
  {
   "cell_type": "code",
   "execution_count": 94,
   "id": "c4e20aa8",
   "metadata": {},
   "outputs": [],
   "source": [
    "# Membagi data menjadi 2 dataset (Training dan Testing)\n",
    "for i, (train_index, test_index) in enumerate(kfold14.split(Xtraining, ytraining)):\n",
    "    Xtrain1, Xvalid1 = Xtraining.iloc[train_index], Xtraining.iloc[test_index]\n",
    "    ytrain1, yvalid1 = ytraining.iloc[train_index], ytraining.iloc[test_index]"
   ]
  },
  {
   "cell_type": "code",
   "execution_count": 95,
   "id": "b7b23a99",
   "metadata": {},
   "outputs": [
    {
     "data": {
      "image/png": "[encoded data removed]",
      "text/plain": [
       "<Figure size 432x288 with 2 Axes>"
      ]
     },
     "metadata": {
      "needs_background": "light"
     },
     "output_type": "display_data"
    }
   ],
   "source": [
    "# CONFUSION MATRIX \n",
    "from sklearn.metrics import confusion_matrix\n",
    "import matplotlib.pyplot as plt\n",
    "import seaborn as sns\n",
    "# melakukan prediksi pada set pengujian\n",
    "Rbf.fit(Xtrain1, ytrain1)\n",
    "ypred = Rbf.predict(Xvalid1)\n",
    "# membuat confusion matrix\n",
    "cm = confusion_matrix(yvalid1, ypred)\n",
    "# membuat plot confusion matrix dengan visualisasi menggunakan seaborn\n",
    "sns.heatmap(cm, annot=True, cmap=\"Blues\")\n",
    "plt.title(\"Confusion Matrix Rbf Kernel\")\n",
    "plt.xlabel(\"Predicted Label\")\n",
    "plt.ylabel(\"True Label\")\n",
    "plt.show()"
   ]
  },
  {
   "cell_type": "code",
   "execution_count": 96,
   "id": "c5d99164",
   "metadata": {},
   "outputs": [
    {
     "name": "stdout",
     "output_type": "stream",
     "text": [
      "Hasil Klasifikasi Report\n",
      "\n",
      "              precision    recall  f1-score   support\n",
      "\n",
      "           0       0.95      0.86      0.90        84\n",
      "           1       0.87      0.95      0.91        87\n",
      "\n",
      "    accuracy                           0.91       171\n",
      "   macro avg       0.91      0.91      0.91       171\n",
      "weighted avg       0.91      0.91      0.91       171\n",
      "\n"
     ]
    }
   ],
   "source": [
    "# Modeling Support Vector Machine\n",
    "Rbf.fit(Xtrain1, ytrain1)\n",
    "ypred = Rbf.predict(Xvalid1)\n",
    "print (\"Hasil Klasifikasi Report\\n\")\n",
    "print (classification_report(yvalid1, ypred))"
   ]
  },
  {
   "cell_type": "markdown",
   "id": "5a68e35b",
   "metadata": {},
   "source": [
    "#### CV = 10"
   ]
  },
  {
   "cell_type": "markdown",
   "id": "7c9e6ff3",
   "metadata": {},
   "source": [
    "#### UJI DATA TRAINING DAN MODELING POLYNOMIAL KERNEL"
   ]
  },
  {
   "cell_type": "markdown",
   "id": "5f1767b9",
   "metadata": {},
   "source": [
    "##### PolynomianKernell"
   ]
  },
  {
   "cell_type": "code",
   "execution_count": 97,
   "id": "edc22ab1",
   "metadata": {},
   "outputs": [],
   "source": [
    "kfold15 = KFold(n_splits=10, random_state=42, shuffle=True)\n",
    "Poli = svm.SVC(kernel='poly', degree=3, C=1)\n",
    "results = cross_val_score(Bnb, Xtraining, ytraining, cv=kfold15)"
   ]
  },
  {
   "cell_type": "code",
   "execution_count": 98,
   "id": "89e2aeb4",
   "metadata": {},
   "outputs": [],
   "source": [
    "# Membagi data menjadi 2 dataset (Training dan Testing)\n",
    "for i, (train_index, test_index) in enumerate(kfold15.split(Xtraining, ytraining)):\n",
    "    Xtrain1, Xvalid1 = Xtraining.iloc[train_index], Xtraining.iloc[test_index]\n",
    "    ytrain1, yvalid1 = ytraining.iloc[train_index], ytraining.iloc[test_index]"
   ]
  },
  {
   "cell_type": "code",
   "execution_count": 99,
   "id": "61579cbc",
   "metadata": {},
   "outputs": [
    {
     "name": "stdout",
     "output_type": "stream",
     "text": [
      "\n",
      "Dimension of Xtrain : (1078, 4)\n",
      "\n",
      "Dimension of Xtest : (119, 4)\n",
      "\n",
      "Dimension of Ytrain : (1078,)\n",
      "\n",
      "Dimension of Ytest : (119,)\n"
     ]
    }
   ],
   "source": [
    "print('\\nDimension of Xtrain :',Xtrain1.shape)\n",
    "print('\\nDimension of Xtest :',Xvalid1.shape)\n",
    "print('\\nDimension of Ytrain :',ytrain1.shape)\n",
    "print('\\nDimension of Ytest :',yvalid1.shape)"
   ]
  },
  {
   "cell_type": "code",
   "execution_count": 100,
   "id": "3a108e1d",
   "metadata": {},
   "outputs": [
    {
     "data": {
      "image/png": "[encoded data removed]",
      "text/plain": [
       "<Figure size 432x288 with 2 Axes>"
      ]
     },
     "metadata": {
      "needs_background": "light"
     },
     "output_type": "display_data"
    }
   ],
   "source": [
    "# CONFUSION MATRIX \n",
    "from sklearn.metrics import confusion_matrix\n",
    "import matplotlib.pyplot as plt\n",
    "import seaborn as sns\n",
    "# melakukan prediksi pada set pengujian\n",
    "Poli.fit(Xtrain1, ytrain1)\n",
    "ypred = Poli.predict(Xvalid1)\n",
    "# membuat confusion matrix\n",
    "cm = confusion_matrix(yvalid1, ypred)\n",
    "# membuat plot confusion matrix dengan visualisasi menggunakan seaborn\n",
    "sns.heatmap(cm, annot=True, cmap=\"Greens\")\n",
    "plt.title(\"Confusion Matrix Polynomial Kernel\")\n",
    "plt.xlabel(\"Predicted Label\")\n",
    "plt.ylabel(\"True Label\")\n",
    "plt.show()"
   ]
  },
  {
   "cell_type": "code",
   "execution_count": 101,
   "id": "adaa9f7e",
   "metadata": {},
   "outputs": [
    {
     "name": "stdout",
     "output_type": "stream",
     "text": [
      "Hasil Klasifikasi Report\n",
      "\n",
      "              precision    recall  f1-score   support\n",
      "\n",
      "           0       0.64      0.90      0.74        60\n",
      "           1       0.82      0.47      0.60        59\n",
      "\n",
      "    accuracy                           0.69       119\n",
      "   macro avg       0.73      0.69      0.67       119\n",
      "weighted avg       0.73      0.69      0.67       119\n",
      "\n"
     ]
    }
   ],
   "source": [
    "# Modeling Support Vector Machine\n",
    "Poli.fit(Xtrain1, ytrain1)\n",
    "ypred = Poli.predict(Xvalid1)\n",
    "print (\"Hasil Klasifikasi Report\\n\")\n",
    "print (classification_report(yvalid, ypred))"
   ]
  },
  {
   "cell_type": "markdown",
   "id": "e75edb2e",
   "metadata": {},
   "source": [
    "#### UJI DATA TRAINING DAN MODELING RBF KERNEL"
   ]
  },
  {
   "cell_type": "markdown",
   "id": "6da8a74c",
   "metadata": {},
   "source": [
    "##### RBFKernell"
   ]
  },
  {
   "cell_type": "code",
   "execution_count": 102,
   "id": "2bbeced9",
   "metadata": {},
   "outputs": [],
   "source": [
    "kfold16 = KFold(n_splits=10, random_state=42, shuffle=True)\n",
    "Rbf = svm.SVC(kernel='rbf', gamma='scale', C=1)\n",
    "results = cross_val_score(Bnb, Xtraining, ytraining, cv=kfold16)"
   ]
  },
  {
   "cell_type": "code",
   "execution_count": 103,
   "id": "c3f71a64",
   "metadata": {},
   "outputs": [],
   "source": [
    "# Membagi data menjadi 2 dataset (Training dan Testing)\n",
    "for i, (train_index, test_index) in enumerate(kfold16.split(Xtraining, ytraining)):\n",
    "    Xtrain1, Xvalid1 = Xtraining.iloc[train_index], Xtraining.iloc[test_index]\n",
    "    ytrain1, yvalid1 = ytraining.iloc[train_index], ytraining.iloc[test_index]"
   ]
  },
  {
   "cell_type": "code",
   "execution_count": 104,
   "id": "8f79af92",
   "metadata": {},
   "outputs": [
    {
     "data": {
      "image/png": "[encoded data removed]",
      "text/plain": [
       "<Figure size 432x288 with 2 Axes>"
      ]
     },
     "metadata": {
      "needs_background": "light"
     },
     "output_type": "display_data"
    }
   ],
   "source": [
    "# CONFUSION MATRIX \n",
    "from sklearn.metrics import confusion_matrix\n",
    "import matplotlib.pyplot as plt\n",
    "import seaborn as sns\n",
    "# melakukan prediksi pada set pengujian\n",
    "Rbf.fit(Xtrain1, ytrain1)\n",
    "ypred = Rbf.predict(Xvalid1)\n",
    "# membuat confusion matrix\n",
    "cm = confusion_matrix(yvalid1, ypred)\n",
    "# membuat plot confusion matrix dengan visualisasi menggunakan seaborn\n",
    "sns.heatmap(cm, annot=True, cmap=\"Blues\")\n",
    "plt.title(\"Confusion Matrix Rbf Kernel\")\n",
    "plt.xlabel(\"Predicted Label\")\n",
    "plt.ylabel(\"True Label\")\n",
    "plt.show()"
   ]
  },
  {
   "cell_type": "code",
   "execution_count": 105,
   "id": "721a939f",
   "metadata": {},
   "outputs": [
    {
     "name": "stdout",
     "output_type": "stream",
     "text": [
      "Hasil Klasifikasi Report\n",
      "\n",
      "              precision    recall  f1-score   support\n",
      "\n",
      "           0       0.94      0.85      0.89        60\n",
      "           1       0.86      0.95      0.90        59\n",
      "\n",
      "    accuracy                           0.90       119\n",
      "   macro avg       0.90      0.90      0.90       119\n",
      "weighted avg       0.90      0.90      0.90       119\n",
      "\n"
     ]
    }
   ],
   "source": [
    "# Modeling Support Vector Machine\n",
    "Rbf.fit(Xtrain1, ytrain1)\n",
    "ypred = Rbf.predict(Xvalid1)\n",
    "print (\"Hasil Klasifikasi Report\\n\")\n",
    "print (classification_report(yvalid1, ypred))"
   ]
  },
  {
   "cell_type": "markdown",
   "id": "d21aa567",
   "metadata": {},
   "source": [
    "### UJI DATA TESTING (NORMALISASI Z-SCORE)"
   ]
  },
  {
   "cell_type": "markdown",
   "id": "b42ee039",
   "metadata": {},
   "source": [
    "#### UJI DATA TESTING 1"
   ]
  },
  {
   "cell_type": "markdown",
   "id": "6fa857fe",
   "metadata": {},
   "source": [
    "#### GAUSSIAN NAIVE BAYES"
   ]
  },
  {
   "cell_type": "code",
   "execution_count": 106,
   "id": "e0e87838",
   "metadata": {},
   "outputs": [
    {
     "data": {
      "image/png": "[encoded data removed]",
      "text/plain": [
       "<Figure size 432x288 with 2 Axes>"
      ]
     },
     "metadata": {
      "needs_background": "light"
     },
     "output_type": "display_data"
    }
   ],
   "source": [
    "# CONFUSION MATRIX \n",
    "from sklearn.metrics import confusion_matrix\n",
    "import matplotlib.pyplot as plt\n",
    "import seaborn as sns\n",
    "# melakukan prediksi pada set pengujian\n",
    "Gnb.fit(Xtrain1, ytrain1)\n",
    "ypred = Gnb.predict(Xtesting)\n",
    "# membuat confusion matrix\n",
    "cm = confusion_matrix(ytesting, ypred)\n",
    "# membuat plot confusion matrix dengan visualisasi menggunakan seaborn\n",
    "sns.heatmap(cm, annot=True, cmap=\"Reds\")\n",
    "plt.title(\"Confusion Matrix GaussianNB\")\n",
    "plt.xlabel(\"Predicted Label\")\n",
    "plt.ylabel(\"True Label\")\n",
    "plt.show()"
   ]
  },
  {
   "cell_type": "code",
   "execution_count": 107,
   "id": "72d3fd05",
   "metadata": {},
   "outputs": [
    {
     "name": "stdout",
     "output_type": "stream",
     "text": [
      "Hasil Klasifikasi Report\n",
      "\n",
      "              precision    recall  f1-score   support\n",
      "\n",
      "           0       0.85      0.56      0.67        70\n",
      "           1       0.64      0.89      0.75        63\n",
      "\n",
      "    accuracy                           0.71       133\n",
      "   macro avg       0.75      0.72      0.71       133\n",
      "weighted avg       0.75      0.71      0.71       133\n",
      "\n"
     ]
    }
   ],
   "source": [
    "# Modeling Naive Bayes\n",
    "Gnb.fit(Xtrain1, ytrain1)\n",
    "ypred = Gnb.predict(Xtesting) \n",
    "print (\"Hasil Klasifikasi Report\\n\")\n",
    "print (classification_report(ytesting, ypred))"
   ]
  },
  {
   "cell_type": "markdown",
   "id": "5fa71063",
   "metadata": {},
   "source": [
    "#### BERNOULLI NAIVE BAYES"
   ]
  },
  {
   "cell_type": "code",
   "execution_count": 108,
   "id": "16d3375c",
   "metadata": {},
   "outputs": [
    {
     "data": {
      "image/png": "[encoded data removed]",
      "text/plain": [
       "<Figure size 432x288 with 2 Axes>"
      ]
     },
     "metadata": {
      "needs_background": "light"
     },
     "output_type": "display_data"
    }
   ],
   "source": [
    "# CONFUSION MATRIX \n",
    "from sklearn.metrics import confusion_matrix\n",
    "import matplotlib.pyplot as plt\n",
    "import seaborn as sns\n",
    "# melakukan prediksi pada set pengujian\n",
    "Bnb.fit(Xtrain1, ytrain1)\n",
    "ypred = Bnb.predict(Xtesting)\n",
    "# membuat confusion matrix\n",
    "cm = confusion_matrix(ytesting, ypred)\n",
    "# membuat plot confusion matrix dengan visualisasi menggunakan seaborn\n",
    "sns.heatmap(cm, annot=True, cmap=\"Oranges\")\n",
    "plt.title(\"Confusion Matrix BernoulliNB\")\n",
    "plt.xlabel(\"Predicted Label\")\n",
    "plt.ylabel(\"True Label\")\n",
    "plt.show()"
   ]
  },
  {
   "cell_type": "code",
   "execution_count": 109,
   "id": "59f3513f",
   "metadata": {},
   "outputs": [
    {
     "name": "stdout",
     "output_type": "stream",
     "text": [
      "Hasil Klasifikasi Report\n",
      "\n",
      "              precision    recall  f1-score   support\n",
      "\n",
      "           0       0.82      0.66      0.73        70\n",
      "           1       0.69      0.84      0.76        63\n",
      "\n",
      "    accuracy                           0.74       133\n",
      "   macro avg       0.75      0.75      0.74       133\n",
      "weighted avg       0.76      0.74      0.74       133\n",
      "\n"
     ]
    }
   ],
   "source": [
    "# Modeling Naive Bayes\n",
    "Bnb.fit(Xtrain1, ytrain1)\n",
    "ypred = Bnb.predict(Xtesting)\n",
    "print (\"Hasil Klasifikasi Report\\n\")\n",
    "print (classification_report(ytesting, ypred))"
   ]
  },
  {
   "cell_type": "markdown",
   "id": "85a901ee",
   "metadata": {},
   "source": [
    "#### POLYNOMIAL KERNEL"
   ]
  },
  {
   "cell_type": "code",
   "execution_count": 110,
   "id": "59ec3139",
   "metadata": {},
   "outputs": [
    {
     "data": {
      "image/png": "[encoded data removed]",
      "text/plain": [
       "<Figure size 432x288 with 2 Axes>"
      ]
     },
     "metadata": {
      "needs_background": "light"
     },
     "output_type": "display_data"
    }
   ],
   "source": [
    "# CONFUSION MATRIX \n",
    "from sklearn.metrics import confusion_matrix\n",
    "import matplotlib.pyplot as plt\n",
    "import seaborn as sns\n",
    "# melakukan prediksi pada set pengujian\n",
    "Poli.fit(Xtrain1, ytrain1)\n",
    "ypred = Poli.predict(Xtesting)\n",
    "# membuat confusion matrix\n",
    "cm = confusion_matrix(ytesting, ypred)\n",
    "# membuat plot confusion matrix dengan visualisasi menggunakan seaborn\n",
    "sns.heatmap(cm, annot=True, cmap=\"Oranges\")\n",
    "plt.title(\"Confusion Matrix Polynomial Kernel\")\n",
    "plt.xlabel(\"Predicted Label\")\n",
    "plt.ylabel(\"True Label\")\n",
    "plt.show()"
   ]
  },
  {
   "cell_type": "code",
   "execution_count": 111,
   "id": "2f2c9bce",
   "metadata": {},
   "outputs": [
    {
     "name": "stdout",
     "output_type": "stream",
     "text": [
      "Hasil Klasifikasi Report\n",
      "\n",
      "              precision    recall  f1-score   support\n",
      "\n",
      "           0       0.67      0.86      0.75        70\n",
      "           1       0.77      0.52      0.62        63\n",
      "\n",
      "    accuracy                           0.70       133\n",
      "   macro avg       0.72      0.69      0.69       133\n",
      "weighted avg       0.71      0.70      0.69       133\n",
      "\n"
     ]
    }
   ],
   "source": [
    "# Modeling Support Vector Machine\n",
    "Poli.fit(Xtrain1, ytrain1)\n",
    "ypred = Poli.predict(Xtesting)\n",
    "print (\"Hasil Klasifikasi Report\\n\")\n",
    "print (classification_report(ytesting, ypred))"
   ]
  },
  {
   "cell_type": "markdown",
   "id": "c3d4896d",
   "metadata": {},
   "source": [
    "#### RBF KERNEL"
   ]
  },
  {
   "cell_type": "code",
   "execution_count": 112,
   "id": "bb8e280d",
   "metadata": {},
   "outputs": [
    {
     "data": {
      "image/png": "[encoded data removed]",
      "text/plain": [
       "<Figure size 432x288 with 2 Axes>"
      ]
     },
     "metadata": {
      "needs_background": "light"
     },
     "output_type": "display_data"
    }
   ],
   "source": [
    "# CONFUSION MATRIX \n",
    "from sklearn.metrics import confusion_matrix\n",
    "import matplotlib.pyplot as plt\n",
    "import seaborn as sns\n",
    "# melakukan prediksi pada set pengujian\n",
    "Rbf.fit(Xtrain1, ytrain1)\n",
    "ypred = Rbf.predict(Xtesting)\n",
    "# membuat confusion matrix\n",
    "cm = confusion_matrix(ytesting, ypred)\n",
    "# membuat plot confusion matrix dengan visualisasi menggunakan seaborn\n",
    "sns.heatmap(cm, annot=True, cmap=\"Blues\")\n",
    "plt.title(\"Confusion Matrix Rbf Kernel\")\n",
    "plt.xlabel(\"Predicted Label\")\n",
    "plt.ylabel(\"True Label\")\n",
    "plt.show()"
   ]
  },
  {
   "cell_type": "code",
   "execution_count": 113,
   "id": "8b7d4d6e",
   "metadata": {},
   "outputs": [
    {
     "name": "stdout",
     "output_type": "stream",
     "text": [
      "Hasil Klasifikasi Report\n",
      "\n",
      "              precision    recall  f1-score   support\n",
      "\n",
      "           0       0.90      0.76      0.82        70\n",
      "           1       0.77      0.90      0.83        63\n",
      "\n",
      "    accuracy                           0.83       133\n",
      "   macro avg       0.83      0.83      0.83       133\n",
      "weighted avg       0.84      0.83      0.83       133\n",
      "\n"
     ]
    }
   ],
   "source": [
    "# Modeling Support Vector Machine\n",
    "Rbf.fit(Xtrain1, ytrain1)\n",
    "ypred = Rbf.predict(Xtesting)\n",
    "print (\"Hasil Klasifikasi Report\\n\")\n",
    "print (classification_report(ytesting, ypred))"
   ]
  },
  {
   "cell_type": "markdown",
   "id": "9f0e5cd1",
   "metadata": {},
   "source": [
    "#### UJI DATA TESTING 2"
   ]
  },
  {
   "cell_type": "markdown",
   "id": "61020b46",
   "metadata": {},
   "source": [
    "#### GAUSSIAN NAIVE BAYES"
   ]
  },
  {
   "cell_type": "code",
   "execution_count": 114,
   "id": "46b51a98",
   "metadata": {},
   "outputs": [
    {
     "name": "stdout",
     "output_type": "stream",
     "text": [
      "\n",
      "Dimension of Xtrain : (119, 4)\n",
      "\n",
      "Dimension of Xtest : (14, 4)\n",
      "\n",
      "Dimension of Ytrain : (119,)\n",
      "\n",
      "Dimension of Ytest : (14,)\n"
     ]
    }
   ],
   "source": [
    "# Membagi data menjadi data training dan data testing\n",
    "Xtraining1, Xtesting1, ytraining1, ytesting1 = train_test_split(Xtesting, ytesting, test_size=0.1, random_state=42)\n",
    "print('\\nDimension of Xtrain :',Xtraining1.shape)\n",
    "print('\\nDimension of Xtest :',Xtesting1.shape)\n",
    "print('\\nDimension of Ytrain :',ytraining1.shape)\n",
    "print('\\nDimension of Ytest :',ytesting1.shape)"
   ]
  },
  {
   "cell_type": "code",
   "execution_count": 115,
   "id": "9e849ef3",
   "metadata": {},
   "outputs": [
    {
     "data": {
      "image/png": "[encoded data removed]",
      "text/plain": [
       "<Figure size 432x288 with 2 Axes>"
      ]
     },
     "metadata": {
      "needs_background": "light"
     },
     "output_type": "display_data"
    }
   ],
   "source": [
    "# CONFUSION MATRIX \n",
    "from sklearn.metrics import confusion_matrix\n",
    "import matplotlib.pyplot as plt\n",
    "import seaborn as sns\n",
    "# melakukan prediksi pada set pengujian\n",
    "Gnb.fit(Xtrain1, ytrain1)\n",
    "ypred = Gnb.predict(Xtesting1)\n",
    "# membuat confusion matrix\n",
    "cm = confusion_matrix(ytesting1, ypred)\n",
    "# membuat plot confusion matrix dengan visualisasi menggunakan seaborn\n",
    "sns.heatmap(cm, annot=True, cmap=\"Reds\")\n",
    "plt.title(\"Confusion Matrix GaussianNB\")\n",
    "plt.xlabel(\"Predicted Label\")\n",
    "plt.ylabel(\"True Label\")\n",
    "plt.show()"
   ]
  },
  {
   "cell_type": "code",
   "execution_count": 116,
   "id": "63cf1e16",
   "metadata": {},
   "outputs": [
    {
     "name": "stdout",
     "output_type": "stream",
     "text": [
      "Hasil Klasifikasi Report\n",
      "\n",
      "              precision    recall  f1-score   support\n",
      "\n",
      "           0       1.00      0.62      0.77         8\n",
      "           1       0.67      1.00      0.80         6\n",
      "\n",
      "    accuracy                           0.79        14\n",
      "   macro avg       0.83      0.81      0.78        14\n",
      "weighted avg       0.86      0.79      0.78        14\n",
      "\n"
     ]
    }
   ],
   "source": [
    "# Modeling Naive Bayes\n",
    "Gnb.fit(Xtrain1, ytrain1)\n",
    "ypred = Gnb.predict(Xtesting1) \n",
    "print (\"Hasil Klasifikasi Report\\n\")\n",
    "print (classification_report(ytesting1, ypred))"
   ]
  },
  {
   "cell_type": "markdown",
   "id": "886d358a",
   "metadata": {},
   "source": [
    "#### BERNOULLI NAIVE BAYES"
   ]
  },
  {
   "cell_type": "code",
   "execution_count": 117,
   "id": "28e3d877",
   "metadata": {},
   "outputs": [
    {
     "name": "stdout",
     "output_type": "stream",
     "text": [
      "\n",
      "Dimension of Xtrain : (119, 4)\n",
      "\n",
      "Dimension of Xtest : (14, 4)\n",
      "\n",
      "Dimension of Ytrain : (119,)\n",
      "\n",
      "Dimension of Ytest : (14,)\n"
     ]
    }
   ],
   "source": [
    "# Membagi data menjadi data training dan data testing\n",
    "Xtraining1, Xtesting1, ytraining1, ytesting1 = train_test_split(Xtesting, ytesting, test_size=0.1, random_state=42)\n",
    "print('\\nDimension of Xtrain :',Xtraining1.shape)\n",
    "print('\\nDimension of Xtest :',Xtesting1.shape)\n",
    "print('\\nDimension of Ytrain :',ytraining1.shape)\n",
    "print('\\nDimension of Ytest :',ytesting1.shape)"
   ]
  },
  {
   "cell_type": "code",
   "execution_count": 118,
   "id": "ecf6edc6",
   "metadata": {},
   "outputs": [
    {
     "data": {
      "image/png": "[encoded data removed]",
      "text/plain": [
       "<Figure size 432x288 with 2 Axes>"
      ]
     },
     "metadata": {
      "needs_background": "light"
     },
     "output_type": "display_data"
    }
   ],
   "source": [
    "# CONFUSION MATRIX \n",
    "from sklearn.metrics import confusion_matrix\n",
    "import matplotlib.pyplot as plt\n",
    "import seaborn as sns\n",
    "# melakukan prediksi pada set pengujian\n",
    "Bnb.fit(Xtrain1, ytrain1)\n",
    "ypred = Bnb.predict(Xtesting1)\n",
    "# membuat confusion matrix\n",
    "cm = confusion_matrix(ytesting1, ypred)\n",
    "# membuat plot confusion matrix dengan visualisasi menggunakan seaborn\n",
    "sns.heatmap(cm, annot=True, cmap=\"Oranges\")\n",
    "plt.title(\"Confusion Matrix BernoulliNB\")\n",
    "plt.xlabel(\"Predicted Label\")\n",
    "plt.ylabel(\"True Label\")\n",
    "plt.show()"
   ]
  },
  {
   "cell_type": "code",
   "execution_count": 119,
   "id": "64e7343d",
   "metadata": {},
   "outputs": [
    {
     "name": "stdout",
     "output_type": "stream",
     "text": [
      "Hasil Klasifikasi Report\n",
      "\n",
      "              precision    recall  f1-score   support\n",
      "\n",
      "           0       1.00      0.62      0.77         8\n",
      "           1       0.67      1.00      0.80         6\n",
      "\n",
      "    accuracy                           0.79        14\n",
      "   macro avg       0.83      0.81      0.78        14\n",
      "weighted avg       0.86      0.79      0.78        14\n",
      "\n"
     ]
    }
   ],
   "source": [
    "# Modeling Naive Bayes\n",
    "Bnb.fit(Xtrain1, ytrain1)\n",
    "ypred = Bnb.predict(Xtesting1)\n",
    "print (\"Hasil Klasifikasi Report\\n\")\n",
    "print (classification_report(ytesting1, ypred))"
   ]
  },
  {
   "cell_type": "markdown",
   "id": "b840a924",
   "metadata": {},
   "source": [
    "#### POLYNOMIAL KERNEL"
   ]
  },
  {
   "cell_type": "code",
   "execution_count": 120,
   "id": "0832eafa",
   "metadata": {},
   "outputs": [
    {
     "name": "stdout",
     "output_type": "stream",
     "text": [
      "\n",
      "Dimension of Xtrain : (119, 4)\n",
      "\n",
      "Dimension of Xtest : (14, 4)\n",
      "\n",
      "Dimension of Ytrain : (119,)\n",
      "\n",
      "Dimension of Ytest : (14,)\n"
     ]
    }
   ],
   "source": [
    "# Membagi data menjadi data training dan data testing\n",
    "Xtraining1, Xtesting1, ytraining1, ytesting1 = train_test_split(Xtesting, ytesting, test_size=0.1, random_state=42)\n",
    "print('\\nDimension of Xtrain :',Xtraining1.shape)\n",
    "print('\\nDimension of Xtest :',Xtesting1.shape)\n",
    "print('\\nDimension of Ytrain :',ytraining1.shape)\n",
    "print('\\nDimension of Ytest :',ytesting1.shape)"
   ]
  },
  {
   "cell_type": "code",
   "execution_count": 121,
   "id": "cee5afbd",
   "metadata": {},
   "outputs": [
    {
     "data": {
      "image/png": "[encoded data removed]",
      "text/plain": [
       "<Figure size 432x288 with 2 Axes>"
      ]
     },
     "metadata": {
      "needs_background": "light"
     },
     "output_type": "display_data"
    }
   ],
   "source": [
    "# CONFUSION MATRIX \n",
    "from sklearn.metrics import confusion_matrix\n",
    "import matplotlib.pyplot as plt\n",
    "import seaborn as sns\n",
    "# melakukan prediksi pada set pengujian\n",
    "Poli.fit(Xtrain1, ytrain1)\n",
    "ypred = Poli.predict(Xtesting1)\n",
    "# membuat confusion matrix\n",
    "cm = confusion_matrix(ytesting1, ypred)\n",
    "# membuat plot confusion matrix dengan visualisasi menggunakan seaborn\n",
    "sns.heatmap(cm, annot=True, cmap=\"Oranges\")\n",
    "plt.title(\"Confusion Matrix Polynomial Kernel\")\n",
    "plt.xlabel(\"Predicted Label\")\n",
    "plt.ylabel(\"True Label\")\n",
    "plt.show()"
   ]
  },
  {
   "cell_type": "code",
   "execution_count": 122,
   "id": "43e6ac95",
   "metadata": {},
   "outputs": [
    {
     "name": "stdout",
     "output_type": "stream",
     "text": [
      "Hasil Klasifikasi Report\n",
      "\n",
      "              precision    recall  f1-score   support\n",
      "\n",
      "           0       0.70      0.88      0.78         8\n",
      "           1       0.75      0.50      0.60         6\n",
      "\n",
      "    accuracy                           0.71        14\n",
      "   macro avg       0.72      0.69      0.69        14\n",
      "weighted avg       0.72      0.71      0.70        14\n",
      "\n"
     ]
    }
   ],
   "source": [
    "# Modeling Support Vector Machine\n",
    "Poli.fit(Xtrain1, ytrain1)\n",
    "ypred = Poli.predict(Xtesting1)\n",
    "print (\"Hasil Klasifikasi Report\\n\")\n",
    "print (classification_report(ytesting1, ypred))"
   ]
  },
  {
   "cell_type": "markdown",
   "id": "aeba4359",
   "metadata": {},
   "source": [
    "#### RBF KERNEL"
   ]
  },
  {
   "cell_type": "code",
   "execution_count": 123,
   "id": "d332cf9b",
   "metadata": {},
   "outputs": [
    {
     "name": "stdout",
     "output_type": "stream",
     "text": [
      "\n",
      "Dimension of Xtrain : (119, 4)\n",
      "\n",
      "Dimension of Xtest : (14, 4)\n",
      "\n",
      "Dimension of Ytrain : (119,)\n",
      "\n",
      "Dimension of Ytest : (14,)\n"
     ]
    }
   ],
   "source": [
    "# Membagi data menjadi data training dan data testing\n",
    "Xtraining1, Xtesting1, ytraining1, ytesting1 = train_test_split(Xtesting, ytesting, test_size=0.1, random_state=42)\n",
    "print('\\nDimension of Xtrain :',Xtraining1.shape)\n",
    "print('\\nDimension of Xtest :',Xtesting1.shape)\n",
    "print('\\nDimension of Ytrain :',ytraining1.shape)\n",
    "print('\\nDimension of Ytest :',ytesting1.shape)"
   ]
  },
  {
   "cell_type": "code",
   "execution_count": 124,
   "id": "dc33288b",
   "metadata": {},
   "outputs": [
    {
     "data": {
      "image/png": "[encoded data removed]",
      "text/plain": [
       "<Figure size 432x288 with 2 Axes>"
      ]
     },
     "metadata": {
      "needs_background": "light"
     },
     "output_type": "display_data"
    }
   ],
   "source": [
    "# CONFUSION MATRIX \n",
    "from sklearn.metrics import confusion_matrix\n",
    "import matplotlib.pyplot as plt\n",
    "import seaborn as sns\n",
    "# melakukan prediksi pada set pengujian\n",
    "Rbf.fit(Xtrain1, ytrain1)\n",
    "ypred = Rbf.predict(Xtesting1)\n",
    "# membuat confusion matrix\n",
    "cm = confusion_matrix(ytesting1, ypred)\n",
    "# membuat plot confusion matrix dengan visualisasi menggunakan seaborn\n",
    "sns.heatmap(cm, annot=True, cmap=\"Blues\")\n",
    "plt.title(\"Confusion Matrix Rbf Kernel\")\n",
    "plt.xlabel(\"Predicted Label\")\n",
    "plt.ylabel(\"True Label\")\n",
    "plt.show()"
   ]
  },
  {
   "cell_type": "code",
   "execution_count": 125,
   "id": "8d2f149d",
   "metadata": {},
   "outputs": [
    {
     "name": "stdout",
     "output_type": "stream",
     "text": [
      "Hasil Klasifikasi Report\n",
      "\n",
      "              precision    recall  f1-score   support\n",
      "\n",
      "           0       1.00      0.62      0.77         8\n",
      "           1       0.67      1.00      0.80         6\n",
      "\n",
      "    accuracy                           0.79        14\n",
      "   macro avg       0.83      0.81      0.78        14\n",
      "weighted avg       0.86      0.79      0.78        14\n",
      "\n"
     ]
    }
   ],
   "source": [
    "# Modeling Support Vector Machine\n",
    "Rbf.fit(Xtrain1, ytrain1)\n",
    "ypred = Rbf.predict(Xtesting1)\n",
    "print (\"Hasil Klasifikasi Report\\n\")\n",
    "print (classification_report(ytesting1, ypred))"
   ]
  }
 ],
 "metadata": {
  "kernelspec": {
   "display_name": "Python 3 (ipykernel)",
   "language": "python",
   "name": "python3"
  },
  "language_info": {
   "codemirror_mode": {
    "name": "ipython",
    "version": 3
   },
   "file_extension": ".py",
   "mimetype": "text/x-python",
   "name": "python",
   "nbconvert_exporter": "python",
   "pygments_lexer": "ipython3",
   "version": "3.8.8"
  }
 },
 "nbformat": 4,
 "nbformat_minor": 5
}
